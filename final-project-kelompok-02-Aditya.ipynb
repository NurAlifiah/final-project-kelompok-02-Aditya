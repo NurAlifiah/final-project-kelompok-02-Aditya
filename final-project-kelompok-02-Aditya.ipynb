{
  "cells": [
    {
      "cell_type": "code",
      "execution_count": null,
      "metadata": {
        "id": "aad408cb"
      },
      "outputs": [],
      "source": [
        "import pandas as pd\n",
        "import numpy as np\n",
        "import matplotlib.pyplot as plt\n",
        "import seaborn as sns"
      ],
      "id": "aad408cb"
    },
    {
      "cell_type": "code",
      "execution_count": null,
      "metadata": {
        "colab": {
          "base_uri": "https://localhost:8080/",
          "height": 424
        },
        "id": "113b4f9c",
        "outputId": "8021400b-f773-41ab-8789-d2326691ee52"
      },
      "outputs": [
        {
          "output_type": "execute_result",
          "data": {
            "text/plain": [
              "      Churn  AccountWeeks  ContractRenewal  DataPlan  DataUsage  \\\n",
              "0         0           128                1         1       2.70   \n",
              "1         0           107                1         1       3.70   \n",
              "2         0           137                1         0       0.00   \n",
              "3         0            84                0         0       0.00   \n",
              "4         0            75                0         0       0.00   \n",
              "...     ...           ...              ...       ...        ...   \n",
              "3328      0           192                1         1       2.67   \n",
              "3329      0            68                1         0       0.34   \n",
              "3330      0            28                1         0       0.00   \n",
              "3331      0           184                0         0       0.00   \n",
              "3332      0            74                1         1       3.70   \n",
              "\n",
              "      CustServCalls  DayMins  DayCalls  MonthlyCharge  OverageFee  RoamMins  \n",
              "0                 1    265.1       110           89.0        9.87      10.0  \n",
              "1                 1    161.6       123           82.0        9.78      13.7  \n",
              "2                 0    243.4       114           52.0        6.06      12.2  \n",
              "3                 2    299.4        71           57.0        3.10       6.6  \n",
              "4                 3    166.7       113           41.0        7.42      10.1  \n",
              "...             ...      ...       ...            ...         ...       ...  \n",
              "3328              2    156.2        77           71.7       10.78       9.9  \n",
              "3329              3    231.1        57           56.4        7.67       9.6  \n",
              "3330              2    180.8       109           56.0       14.44      14.1  \n",
              "3331              2    213.8       105           50.0        7.98       5.0  \n",
              "3332              0    234.4       113          100.0       13.30      13.7  \n",
              "\n",
              "[3333 rows x 11 columns]"
            ],
            "text/html": [
              "\n",
              "  <div id=\"df-5caeb109-69bd-47c2-810d-3f14810a1fd8\">\n",
              "    <div class=\"colab-df-container\">\n",
              "      <div>\n",
              "<style scoped>\n",
              "    .dataframe tbody tr th:only-of-type {\n",
              "        vertical-align: middle;\n",
              "    }\n",
              "\n",
              "    .dataframe tbody tr th {\n",
              "        vertical-align: top;\n",
              "    }\n",
              "\n",
              "    .dataframe thead th {\n",
              "        text-align: right;\n",
              "    }\n",
              "</style>\n",
              "<table border=\"1\" class=\"dataframe\">\n",
              "  <thead>\n",
              "    <tr style=\"text-align: right;\">\n",
              "      <th></th>\n",
              "      <th>Churn</th>\n",
              "      <th>AccountWeeks</th>\n",
              "      <th>ContractRenewal</th>\n",
              "      <th>DataPlan</th>\n",
              "      <th>DataUsage</th>\n",
              "      <th>CustServCalls</th>\n",
              "      <th>DayMins</th>\n",
              "      <th>DayCalls</th>\n",
              "      <th>MonthlyCharge</th>\n",
              "      <th>OverageFee</th>\n",
              "      <th>RoamMins</th>\n",
              "    </tr>\n",
              "  </thead>\n",
              "  <tbody>\n",
              "    <tr>\n",
              "      <th>0</th>\n",
              "      <td>0</td>\n",
              "      <td>128</td>\n",
              "      <td>1</td>\n",
              "      <td>1</td>\n",
              "      <td>2.70</td>\n",
              "      <td>1</td>\n",
              "      <td>265.1</td>\n",
              "      <td>110</td>\n",
              "      <td>89.0</td>\n",
              "      <td>9.87</td>\n",
              "      <td>10.0</td>\n",
              "    </tr>\n",
              "    <tr>\n",
              "      <th>1</th>\n",
              "      <td>0</td>\n",
              "      <td>107</td>\n",
              "      <td>1</td>\n",
              "      <td>1</td>\n",
              "      <td>3.70</td>\n",
              "      <td>1</td>\n",
              "      <td>161.6</td>\n",
              "      <td>123</td>\n",
              "      <td>82.0</td>\n",
              "      <td>9.78</td>\n",
              "      <td>13.7</td>\n",
              "    </tr>\n",
              "    <tr>\n",
              "      <th>2</th>\n",
              "      <td>0</td>\n",
              "      <td>137</td>\n",
              "      <td>1</td>\n",
              "      <td>0</td>\n",
              "      <td>0.00</td>\n",
              "      <td>0</td>\n",
              "      <td>243.4</td>\n",
              "      <td>114</td>\n",
              "      <td>52.0</td>\n",
              "      <td>6.06</td>\n",
              "      <td>12.2</td>\n",
              "    </tr>\n",
              "    <tr>\n",
              "      <th>3</th>\n",
              "      <td>0</td>\n",
              "      <td>84</td>\n",
              "      <td>0</td>\n",
              "      <td>0</td>\n",
              "      <td>0.00</td>\n",
              "      <td>2</td>\n",
              "      <td>299.4</td>\n",
              "      <td>71</td>\n",
              "      <td>57.0</td>\n",
              "      <td>3.10</td>\n",
              "      <td>6.6</td>\n",
              "    </tr>\n",
              "    <tr>\n",
              "      <th>4</th>\n",
              "      <td>0</td>\n",
              "      <td>75</td>\n",
              "      <td>0</td>\n",
              "      <td>0</td>\n",
              "      <td>0.00</td>\n",
              "      <td>3</td>\n",
              "      <td>166.7</td>\n",
              "      <td>113</td>\n",
              "      <td>41.0</td>\n",
              "      <td>7.42</td>\n",
              "      <td>10.1</td>\n",
              "    </tr>\n",
              "    <tr>\n",
              "      <th>...</th>\n",
              "      <td>...</td>\n",
              "      <td>...</td>\n",
              "      <td>...</td>\n",
              "      <td>...</td>\n",
              "      <td>...</td>\n",
              "      <td>...</td>\n",
              "      <td>...</td>\n",
              "      <td>...</td>\n",
              "      <td>...</td>\n",
              "      <td>...</td>\n",
              "      <td>...</td>\n",
              "    </tr>\n",
              "    <tr>\n",
              "      <th>3328</th>\n",
              "      <td>0</td>\n",
              "      <td>192</td>\n",
              "      <td>1</td>\n",
              "      <td>1</td>\n",
              "      <td>2.67</td>\n",
              "      <td>2</td>\n",
              "      <td>156.2</td>\n",
              "      <td>77</td>\n",
              "      <td>71.7</td>\n",
              "      <td>10.78</td>\n",
              "      <td>9.9</td>\n",
              "    </tr>\n",
              "    <tr>\n",
              "      <th>3329</th>\n",
              "      <td>0</td>\n",
              "      <td>68</td>\n",
              "      <td>1</td>\n",
              "      <td>0</td>\n",
              "      <td>0.34</td>\n",
              "      <td>3</td>\n",
              "      <td>231.1</td>\n",
              "      <td>57</td>\n",
              "      <td>56.4</td>\n",
              "      <td>7.67</td>\n",
              "      <td>9.6</td>\n",
              "    </tr>\n",
              "    <tr>\n",
              "      <th>3330</th>\n",
              "      <td>0</td>\n",
              "      <td>28</td>\n",
              "      <td>1</td>\n",
              "      <td>0</td>\n",
              "      <td>0.00</td>\n",
              "      <td>2</td>\n",
              "      <td>180.8</td>\n",
              "      <td>109</td>\n",
              "      <td>56.0</td>\n",
              "      <td>14.44</td>\n",
              "      <td>14.1</td>\n",
              "    </tr>\n",
              "    <tr>\n",
              "      <th>3331</th>\n",
              "      <td>0</td>\n",
              "      <td>184</td>\n",
              "      <td>0</td>\n",
              "      <td>0</td>\n",
              "      <td>0.00</td>\n",
              "      <td>2</td>\n",
              "      <td>213.8</td>\n",
              "      <td>105</td>\n",
              "      <td>50.0</td>\n",
              "      <td>7.98</td>\n",
              "      <td>5.0</td>\n",
              "    </tr>\n",
              "    <tr>\n",
              "      <th>3332</th>\n",
              "      <td>0</td>\n",
              "      <td>74</td>\n",
              "      <td>1</td>\n",
              "      <td>1</td>\n",
              "      <td>3.70</td>\n",
              "      <td>0</td>\n",
              "      <td>234.4</td>\n",
              "      <td>113</td>\n",
              "      <td>100.0</td>\n",
              "      <td>13.30</td>\n",
              "      <td>13.7</td>\n",
              "    </tr>\n",
              "  </tbody>\n",
              "</table>\n",
              "<p>3333 rows × 11 columns</p>\n",
              "</div>\n",
              "      <button class=\"colab-df-convert\" onclick=\"convertToInteractive('df-5caeb109-69bd-47c2-810d-3f14810a1fd8')\"\n",
              "              title=\"Convert this dataframe to an interactive table.\"\n",
              "              style=\"display:none;\">\n",
              "        \n",
              "  <svg xmlns=\"http://www.w3.org/2000/svg\" height=\"24px\"viewBox=\"0 0 24 24\"\n",
              "       width=\"24px\">\n",
              "    <path d=\"M0 0h24v24H0V0z\" fill=\"none\"/>\n",
              "    <path d=\"M18.56 5.44l.94 2.06.94-2.06 2.06-.94-2.06-.94-.94-2.06-.94 2.06-2.06.94zm-11 1L8.5 8.5l.94-2.06 2.06-.94-2.06-.94L8.5 2.5l-.94 2.06-2.06.94zm10 10l.94 2.06.94-2.06 2.06-.94-2.06-.94-.94-2.06-.94 2.06-2.06.94z\"/><path d=\"M17.41 7.96l-1.37-1.37c-.4-.4-.92-.59-1.43-.59-.52 0-1.04.2-1.43.59L10.3 9.45l-7.72 7.72c-.78.78-.78 2.05 0 2.83L4 21.41c.39.39.9.59 1.41.59.51 0 1.02-.2 1.41-.59l7.78-7.78 2.81-2.81c.8-.78.8-2.07 0-2.86zM5.41 20L4 18.59l7.72-7.72 1.47 1.35L5.41 20z\"/>\n",
              "  </svg>\n",
              "      </button>\n",
              "      \n",
              "  <style>\n",
              "    .colab-df-container {\n",
              "      display:flex;\n",
              "      flex-wrap:wrap;\n",
              "      gap: 12px;\n",
              "    }\n",
              "\n",
              "    .colab-df-convert {\n",
              "      background-color: #E8F0FE;\n",
              "      border: none;\n",
              "      border-radius: 50%;\n",
              "      cursor: pointer;\n",
              "      display: none;\n",
              "      fill: #1967D2;\n",
              "      height: 32px;\n",
              "      padding: 0 0 0 0;\n",
              "      width: 32px;\n",
              "    }\n",
              "\n",
              "    .colab-df-convert:hover {\n",
              "      background-color: #E2EBFA;\n",
              "      box-shadow: 0px 1px 2px rgba(60, 64, 67, 0.3), 0px 1px 3px 1px rgba(60, 64, 67, 0.15);\n",
              "      fill: #174EA6;\n",
              "    }\n",
              "\n",
              "    [theme=dark] .colab-df-convert {\n",
              "      background-color: #3B4455;\n",
              "      fill: #D2E3FC;\n",
              "    }\n",
              "\n",
              "    [theme=dark] .colab-df-convert:hover {\n",
              "      background-color: #434B5C;\n",
              "      box-shadow: 0px 1px 3px 1px rgba(0, 0, 0, 0.15);\n",
              "      filter: drop-shadow(0px 1px 2px rgba(0, 0, 0, 0.3));\n",
              "      fill: #FFFFFF;\n",
              "    }\n",
              "  </style>\n",
              "\n",
              "      <script>\n",
              "        const buttonEl =\n",
              "          document.querySelector('#df-5caeb109-69bd-47c2-810d-3f14810a1fd8 button.colab-df-convert');\n",
              "        buttonEl.style.display =\n",
              "          google.colab.kernel.accessAllowed ? 'block' : 'none';\n",
              "\n",
              "        async function convertToInteractive(key) {\n",
              "          const element = document.querySelector('#df-5caeb109-69bd-47c2-810d-3f14810a1fd8');\n",
              "          const dataTable =\n",
              "            await google.colab.kernel.invokeFunction('convertToInteractive',\n",
              "                                                     [key], {});\n",
              "          if (!dataTable) return;\n",
              "\n",
              "          const docLinkHtml = 'Like what you see? Visit the ' +\n",
              "            '<a target=\"_blank\" href=https://colab.research.google.com/notebooks/data_table.ipynb>data table notebook</a>'\n",
              "            + ' to learn more about interactive tables.';\n",
              "          element.innerHTML = '';\n",
              "          dataTable['output_type'] = 'display_data';\n",
              "          await google.colab.output.renderOutput(dataTable, element);\n",
              "          const docLink = document.createElement('div');\n",
              "          docLink.innerHTML = docLinkHtml;\n",
              "          element.appendChild(docLink);\n",
              "        }\n",
              "      </script>\n",
              "    </div>\n",
              "  </div>\n",
              "  "
            ]
          },
          "metadata": {},
          "execution_count": 5
        }
      ],
      "source": [
        "df = pd.read_csv('telecom_churn.csv')\n",
        "df"
      ],
      "id": "113b4f9c"
    },
    {
      "cell_type": "code",
      "source": [
        "df[\"Churn\"].value_counts().plot(kind=\"pie\", title=\"All Over Churned Ratio\",\n",
        "                                labels = [\"Retained {:.2f} %\".format(len(df.loc[df.Churn==0])*100/len(df.Churn)),\n",
        "                                          \"Churned {:.2f} %\".format(len(df.loc[df.Churn==1])*100/len(df.Churn))],\n",
        "                                figsize=(4,4))"
      ],
      "metadata": {
        "id": "mhJvliVhJiwr",
        "outputId": "f905cca9-4b0c-4e96-aada-3694d66e5a26",
        "colab": {
          "base_uri": "https://localhost:8080/",
          "height": 281
        }
      },
      "execution_count": null,
      "outputs": [
        {
          "output_type": "execute_result",
          "data": {
            "text/plain": [
              "<matplotlib.axes._subplots.AxesSubplot at 0x7ff5b489bd90>"
            ]
          },
          "metadata": {},
          "execution_count": 31
        },
        {
          "output_type": "display_data",
          "data": {
            "text/plain": [
              "<Figure size 288x288 with 1 Axes>"
            ],
            "image/png": "[encoded data removed]"
          },
          "metadata": {}
        }
      ],
      "id": "mhJvliVhJiwr"
    },
    {
      "cell_type": "markdown",
      "source": [
        "Berdasarkan ratio tersebut dapat diketahui bahwa pelanggan yang membatalkan layanan lebih kecil dibandingkan dengan yang masih memakai layanan telekomunikasi. oleh karena itu, perusahaan masih bisa mempertahankan pelanggannya"
      ],
      "metadata": {
        "id": "L_3dTs2HJvTy"
      },
      "id": "L_3dTs2HJvTy"
    },
    {
      "cell_type": "code",
      "execution_count": null,
      "metadata": {
        "colab": {
          "base_uri": "https://localhost:8080/",
          "height": 279
        },
        "id": "r7-xopsAEgxF",
        "outputId": "7eb8941d-722c-4025-fc4d-1ce4b8f0aead"
      },
      "outputs": [
        {
          "output_type": "display_data",
          "data": {
            "text/plain": [
              "<Figure size 432x288 with 1 Axes>"
            ],
            "image/png": "[encoded data removed]"
          },
          "metadata": {
            "needs_background": "light"
          }
        }
      ],
      "source": [
        "fig = plt.figure()  \n",
        "ax = sns.histplot(data = df, x = 'AccountWeeks')\n",
        "plt.show() "
      ],
      "id": "r7-xopsAEgxF"
    },
    {
      "cell_type": "markdown",
      "metadata": {
        "id": "e9d13Pg9JWXj"
      },
      "source": [
        "Berdasarkan histogram di atas, dapat dilihat bahwa rata-rata lama pelanggan berlangganan berada pada kisaran 0-200 minggu"
      ],
      "id": "e9d13Pg9JWXj"
    },
    {
      "cell_type": "code",
      "execution_count": null,
      "metadata": {
        "colab": {
          "base_uri": "https://localhost:8080/",
          "height": 279
        },
        "id": "VWyd29bVHfHm",
        "outputId": "c3fc8d6a-2493-47b9-e1ce-8949dcc8c75f"
      },
      "outputs": [
        {
          "output_type": "display_data",
          "data": {
            "text/plain": [
              "<Figure size 432x288 with 1 Axes>"
            ],
            "image/png": "[encoded data removed]"
          },
          "metadata": {
            "needs_background": "light"
          }
        }
      ],
      "source": [
        "ax = sns.histplot(data = df, x = 'ContractRenewal')\n",
        "plt.show() "
      ],
      "id": "VWyd29bVHfHm"
    },
    {
      "cell_type": "markdown",
      "metadata": {
        "id": "9f-J8r8yS_Rb"
      },
      "source": [
        "Berdasarkan histogram di atas dapat dilihat bahwa lebih banyak pelanggan yang memperbarui kontrak untuk berlangganan dibandingkan dengan yang tidak memperbarui kontrak"
      ],
      "id": "9f-J8r8yS_Rb"
    },
    {
      "cell_type": "code",
      "execution_count": null,
      "metadata": {
        "colab": {
          "base_uri": "https://localhost:8080/",
          "height": 281
        },
        "id": "F_YpcrBsHmrI",
        "outputId": "b4daa431-a6b2-49b2-ee85-201fb0391628"
      },
      "outputs": [
        {
          "output_type": "display_data",
          "data": {
            "text/plain": [
              "<Figure size 432x288 with 1 Axes>"
            ],
            "image/png": "[encoded data removed]"
          },
          "metadata": {
            "needs_background": "light"
          }
        }
      ],
      "source": [
        "ax = sns.histplot(data = df, x = 'DataPlan')\n",
        "plt.show() "
      ],
      "id": "F_YpcrBsHmrI"
    },
    {
      "cell_type": "markdown",
      "metadata": {
        "id": "SUAoT3psYco3"
      },
      "source": [
        "Berdasarkan histogram diatas dapat dilihat bahwa lebih banyak pelanggan yang tidak memiliki paket data dibandingkan yang memiliki paket data"
      ],
      "id": "SUAoT3psYco3"
    },
    {
      "cell_type": "code",
      "execution_count": null,
      "metadata": {
        "colab": {
          "base_uri": "https://localhost:8080/",
          "height": 279
        },
        "id": "rd37m3yzHreR",
        "outputId": "b128c955-2955-4f25-cd65-49cd02d3690b"
      },
      "outputs": [
        {
          "output_type": "display_data",
          "data": {
            "text/plain": [
              "<Figure size 432x288 with 1 Axes>"
            ],
            "image/png": "[encoded data removed]"
          },
          "metadata": {
            "needs_background": "light"
          }
        }
      ],
      "source": [
        "ax = sns.histplot(data = df, x = 'DataUsage')\n",
        "plt.show() "
      ],
      "id": "rd37m3yzHreR"
    },
    {
      "cell_type": "markdown",
      "metadata": {
        "id": "iDAel4VFZHr8"
      },
      "source": [
        "Berdasarkan histogram diatas dapat dilihat bahwa mayoritas pelanggan tidak memakai data sama sekali atau hanya sebesar 1 gigabytes setiap bulannya"
      ],
      "id": "iDAel4VFZHr8"
    },
    {
      "cell_type": "code",
      "execution_count": null,
      "metadata": {
        "colab": {
          "base_uri": "https://localhost:8080/",
          "height": 279
        },
        "id": "fG89azimHxEy",
        "outputId": "5399f6d5-36bd-4da0-d36e-710bce161c6a"
      },
      "outputs": [
        {
          "output_type": "display_data",
          "data": {
            "text/plain": [
              "<Figure size 432x288 with 1 Axes>"
            ],
            "image/png": "[encoded data removed]"
          },
          "metadata": {
            "needs_background": "light"
          }
        }
      ],
      "source": [
        "ax = sns.histplot(data = df, x = 'CustServCalls')\n",
        "plt.show() "
      ],
      "id": "fG89azimHxEy"
    },
    {
      "cell_type": "markdown",
      "metadata": {
        "id": "3knXHR5ubTGy"
      },
      "source": [
        "Berdasarkan histogram diatas dapat dilihat bahwa pelanggan yang paling banyak melakukan panggilan Customer Service yaitu dalam 1 kali panggilan"
      ],
      "id": "3knXHR5ubTGy"
    },
    {
      "cell_type": "code",
      "execution_count": null,
      "metadata": {
        "colab": {
          "base_uri": "https://localhost:8080/",
          "height": 279
        },
        "id": "UhY3RvXgIBB1",
        "outputId": "4e3238a1-96c3-4ceb-c20c-723eb45b0c9e"
      },
      "outputs": [
        {
          "output_type": "display_data",
          "data": {
            "text/plain": [
              "<Figure size 432x288 with 1 Axes>"
            ],
            "image/png": "[encoded data removed]"
          },
          "metadata": {
            "needs_background": "light"
          }
        }
      ],
      "source": [
        "ax = sns.histplot(data = df, x = 'DayMins')\n",
        "plt.show() "
      ],
      "id": "UhY3RvXgIBB1"
    },
    {
      "cell_type": "markdown",
      "metadata": {
        "id": "DRh29xYZJzqX"
      },
      "source": [
        "Berdasarkan histogram di atas, dapat dilihat bahwa rata-rata lama pelanggan menggunakan layanan berada pada kisaran 50-300 menit perbulannya"
      ],
      "id": "DRh29xYZJzqX"
    },
    {
      "cell_type": "code",
      "execution_count": null,
      "metadata": {
        "colab": {
          "base_uri": "https://localhost:8080/",
          "height": 279
        },
        "id": "AVzAwVj-IEMa",
        "outputId": "5a0f757e-f341-4bda-fbc7-78923f7ba7a0"
      },
      "outputs": [
        {
          "output_type": "display_data",
          "data": {
            "text/plain": [
              "<Figure size 432x288 with 1 Axes>"
            ],
            "image/png": "[encoded data removed]"
          },
          "metadata": {
            "needs_background": "light"
          }
        }
      ],
      "source": [
        "ax = sns.histplot(data = df, x = 'DayCalls')\n",
        "plt.show() "
      ],
      "id": "AVzAwVj-IEMa"
    },
    {
      "cell_type": "markdown",
      "metadata": {
        "id": "10kxN505OEkC"
      },
      "source": [
        "Berdasarkan histogram di atas dapat dilihat bahwa rata-rata lama pelanggan menggunakan layanan perharinya berada pada kisaran 50-150"
      ],
      "id": "10kxN505OEkC"
    },
    {
      "cell_type": "code",
      "execution_count": null,
      "metadata": {
        "colab": {
          "base_uri": "https://localhost:8080/",
          "height": 282
        },
        "id": "cl0q1BicILHj",
        "outputId": "8c9c011b-f316-4330-b7be-1713b2d941c2"
      },
      "outputs": [
        {
          "output_type": "display_data",
          "data": {
            "text/plain": [
              "<Figure size 432x288 with 1 Axes>"
            ],
            "image/png": "[encoded data removed]"
          },
          "metadata": {
            "needs_background": "light"
          }
        }
      ],
      "source": [
        "ax = sns.histplot(data = df, x = 'MonthlyCharge')\n",
        "plt.show() "
      ],
      "id": "cl0q1BicILHj"
    },
    {
      "cell_type": "markdown",
      "metadata": {
        "id": "S3-C9A5tOTqL"
      },
      "source": [
        "Berdasarkan histogram di atas dapat dilihat bahwa rata-rata pelanggan membayar biaya berlangganan sebesar 20-100 dollar per bulannya"
      ],
      "id": "S3-C9A5tOTqL"
    },
    {
      "cell_type": "code",
      "execution_count": null,
      "metadata": {
        "colab": {
          "base_uri": "https://localhost:8080/",
          "height": 279
        },
        "id": "rPQ-RHY3INrK",
        "outputId": "398cbe6b-a8a3-4245-c2c1-9e62d9c564cc"
      },
      "outputs": [
        {
          "output_type": "display_data",
          "data": {
            "text/plain": [
              "<Figure size 432x288 with 1 Axes>"
            ],
            "image/png": "[encoded data removed]"
          },
          "metadata": {
            "needs_background": "light"
          }
        }
      ],
      "source": [
        "ax = sns.histplot(data = df, x = 'OverageFee')\n",
        "plt.show() "
      ],
      "id": "rPQ-RHY3INrK"
    },
    {
      "cell_type": "code",
      "execution_count": null,
      "metadata": {
        "colab": {
          "base_uri": "https://localhost:8080/",
          "height": 279
        },
        "id": "qIQfwAojIQ7H",
        "outputId": "a084a568-5265-4fc9-aed9-eb4bfaeb59d4"
      },
      "outputs": [
        {
          "output_type": "display_data",
          "data": {
            "text/plain": [
              "<Figure size 432x288 with 1 Axes>"
            ],
            "image/png": "[encoded data removed]"
          },
          "metadata": {
            "needs_background": "light"
          }
        }
      ],
      "source": [
        "ax = sns.histplot(data = df, x = 'RoamMins')\n",
        "plt.show() "
      ],
      "id": "qIQfwAojIQ7H"
    },
    {
      "cell_type": "code",
      "execution_count": null,
      "metadata": {
        "colab": {
          "base_uri": "https://localhost:8080/"
        },
        "id": "07f03213",
        "outputId": "cec4ac5b-2126-42db-ca11-20597b0374c3"
      },
      "outputs": [
        {
          "output_type": "stream",
          "name": "stdout",
          "text": [
            "<class 'pandas.core.frame.DataFrame'>\n",
            "RangeIndex: 3333 entries, 0 to 3332\n",
            "Data columns (total 11 columns):\n",
            " #   Column           Non-Null Count  Dtype  \n",
            "---  ------           --------------  -----  \n",
            " 0   Churn            3333 non-null   int64  \n",
            " 1   AccountWeeks     3333 non-null   int64  \n",
            " 2   ContractRenewal  3333 non-null   int64  \n",
            " 3   DataPlan         3333 non-null   int64  \n",
            " 4   DataUsage        3333 non-null   float64\n",
            " 5   CustServCalls    3333 non-null   int64  \n",
            " 6   DayMins          3333 non-null   float64\n",
            " 7   DayCalls         3333 non-null   int64  \n",
            " 8   MonthlyCharge    3333 non-null   float64\n",
            " 9   OverageFee       3333 non-null   float64\n",
            " 10  RoamMins         3333 non-null   float64\n",
            "dtypes: float64(5), int64(6)\n",
            "memory usage: 286.6 KB\n"
          ]
        }
      ],
      "source": [
        "df.info()"
      ],
      "id": "07f03213"
    },
    {
      "cell_type": "markdown",
      "metadata": {
        "id": "d809fafb"
      },
      "source": [
        "Data tidak memiliki missing value dan tipe data sudah sesuai"
      ],
      "id": "d809fafb"
    },
    {
      "cell_type": "code",
      "execution_count": null,
      "metadata": {
        "colab": {
          "base_uri": "https://localhost:8080/",
          "height": 300
        },
        "id": "60002167",
        "outputId": "9b35b150-3674-4d04-9a22-45579a5b32bc"
      },
      "outputs": [
        {
          "output_type": "execute_result",
          "data": {
            "text/plain": [
              "             Churn  AccountWeeks  ContractRenewal     DataPlan    DataUsage  \\\n",
              "count  3333.000000   3333.000000      3333.000000  3333.000000  3333.000000   \n",
              "mean      0.144914    101.064806         0.903090     0.276628     0.816475   \n",
              "std       0.352067     39.822106         0.295879     0.447398     1.272668   \n",
              "min       0.000000      1.000000         0.000000     0.000000     0.000000   \n",
              "25%       0.000000     74.000000         1.000000     0.000000     0.000000   \n",
              "50%       0.000000    101.000000         1.000000     0.000000     0.000000   \n",
              "75%       0.000000    127.000000         1.000000     1.000000     1.780000   \n",
              "max       1.000000    243.000000         1.000000     1.000000     5.400000   \n",
              "\n",
              "       CustServCalls      DayMins     DayCalls  MonthlyCharge   OverageFee  \\\n",
              "count    3333.000000  3333.000000  3333.000000    3333.000000  3333.000000   \n",
              "mean        1.562856   179.775098   100.435644      56.305161    10.051488   \n",
              "std         1.315491    54.467389    20.069084      16.426032     2.535712   \n",
              "min         0.000000     0.000000     0.000000      14.000000     0.000000   \n",
              "25%         1.000000   143.700000    87.000000      45.000000     8.330000   \n",
              "50%         1.000000   179.400000   101.000000      53.500000    10.070000   \n",
              "75%         2.000000   216.400000   114.000000      66.200000    11.770000   \n",
              "max         9.000000   350.800000   165.000000     111.300000    18.190000   \n",
              "\n",
              "          RoamMins  \n",
              "count  3333.000000  \n",
              "mean     10.237294  \n",
              "std       2.791840  \n",
              "min       0.000000  \n",
              "25%       8.500000  \n",
              "50%      10.300000  \n",
              "75%      12.100000  \n",
              "max      20.000000  "
            ],
            "text/html": [
              "\n",
              "  <div id=\"df-d0217395-b4d4-4266-a913-4a46a18024c6\">\n",
              "    <div class=\"colab-df-container\">\n",
              "      <div>\n",
              "<style scoped>\n",
              "    .dataframe tbody tr th:only-of-type {\n",
              "        vertical-align: middle;\n",
              "    }\n",
              "\n",
              "    .dataframe tbody tr th {\n",
              "        vertical-align: top;\n",
              "    }\n",
              "\n",
              "    .dataframe thead th {\n",
              "        text-align: right;\n",
              "    }\n",
              "</style>\n",
              "<table border=\"1\" class=\"dataframe\">\n",
              "  <thead>\n",
              "    <tr style=\"text-align: right;\">\n",
              "      <th></th>\n",
              "      <th>Churn</th>\n",
              "      <th>AccountWeeks</th>\n",
              "      <th>ContractRenewal</th>\n",
              "      <th>DataPlan</th>\n",
              "      <th>DataUsage</th>\n",
              "      <th>CustServCalls</th>\n",
              "      <th>DayMins</th>\n",
              "      <th>DayCalls</th>\n",
              "      <th>MonthlyCharge</th>\n",
              "      <th>OverageFee</th>\n",
              "      <th>RoamMins</th>\n",
              "    </tr>\n",
              "  </thead>\n",
              "  <tbody>\n",
              "    <tr>\n",
              "      <th>count</th>\n",
              "      <td>3333.000000</td>\n",
              "      <td>3333.000000</td>\n",
              "      <td>3333.000000</td>\n",
              "      <td>3333.000000</td>\n",
              "      <td>3333.000000</td>\n",
              "      <td>3333.000000</td>\n",
              "      <td>3333.000000</td>\n",
              "      <td>3333.000000</td>\n",
              "      <td>3333.000000</td>\n",
              "      <td>3333.000000</td>\n",
              "      <td>3333.000000</td>\n",
              "    </tr>\n",
              "    <tr>\n",
              "      <th>mean</th>\n",
              "      <td>0.144914</td>\n",
              "      <td>101.064806</td>\n",
              "      <td>0.903090</td>\n",
              "      <td>0.276628</td>\n",
              "      <td>0.816475</td>\n",
              "      <td>1.562856</td>\n",
              "      <td>179.775098</td>\n",
              "      <td>100.435644</td>\n",
              "      <td>56.305161</td>\n",
              "      <td>10.051488</td>\n",
              "      <td>10.237294</td>\n",
              "    </tr>\n",
              "    <tr>\n",
              "      <th>std</th>\n",
              "      <td>0.352067</td>\n",
              "      <td>39.822106</td>\n",
              "      <td>0.295879</td>\n",
              "      <td>0.447398</td>\n",
              "      <td>1.272668</td>\n",
              "      <td>1.315491</td>\n",
              "      <td>54.467389</td>\n",
              "      <td>20.069084</td>\n",
              "      <td>16.426032</td>\n",
              "      <td>2.535712</td>\n",
              "      <td>2.791840</td>\n",
              "    </tr>\n",
              "    <tr>\n",
              "      <th>min</th>\n",
              "      <td>0.000000</td>\n",
              "      <td>1.000000</td>\n",
              "      <td>0.000000</td>\n",
              "      <td>0.000000</td>\n",
              "      <td>0.000000</td>\n",
              "      <td>0.000000</td>\n",
              "      <td>0.000000</td>\n",
              "      <td>0.000000</td>\n",
              "      <td>14.000000</td>\n",
              "      <td>0.000000</td>\n",
              "      <td>0.000000</td>\n",
              "    </tr>\n",
              "    <tr>\n",
              "      <th>25%</th>\n",
              "      <td>0.000000</td>\n",
              "      <td>74.000000</td>\n",
              "      <td>1.000000</td>\n",
              "      <td>0.000000</td>\n",
              "      <td>0.000000</td>\n",
              "      <td>1.000000</td>\n",
              "      <td>143.700000</td>\n",
              "      <td>87.000000</td>\n",
              "      <td>45.000000</td>\n",
              "      <td>8.330000</td>\n",
              "      <td>8.500000</td>\n",
              "    </tr>\n",
              "    <tr>\n",
              "      <th>50%</th>\n",
              "      <td>0.000000</td>\n",
              "      <td>101.000000</td>\n",
              "      <td>1.000000</td>\n",
              "      <td>0.000000</td>\n",
              "      <td>0.000000</td>\n",
              "      <td>1.000000</td>\n",
              "      <td>179.400000</td>\n",
              "      <td>101.000000</td>\n",
              "      <td>53.500000</td>\n",
              "      <td>10.070000</td>\n",
              "      <td>10.300000</td>\n",
              "    </tr>\n",
              "    <tr>\n",
              "      <th>75%</th>\n",
              "      <td>0.000000</td>\n",
              "      <td>127.000000</td>\n",
              "      <td>1.000000</td>\n",
              "      <td>1.000000</td>\n",
              "      <td>1.780000</td>\n",
              "      <td>2.000000</td>\n",
              "      <td>216.400000</td>\n",
              "      <td>114.000000</td>\n",
              "      <td>66.200000</td>\n",
              "      <td>11.770000</td>\n",
              "      <td>12.100000</td>\n",
              "    </tr>\n",
              "    <tr>\n",
              "      <th>max</th>\n",
              "      <td>1.000000</td>\n",
              "      <td>243.000000</td>\n",
              "      <td>1.000000</td>\n",
              "      <td>1.000000</td>\n",
              "      <td>5.400000</td>\n",
              "      <td>9.000000</td>\n",
              "      <td>350.800000</td>\n",
              "      <td>165.000000</td>\n",
              "      <td>111.300000</td>\n",
              "      <td>18.190000</td>\n",
              "      <td>20.000000</td>\n",
              "    </tr>\n",
              "  </tbody>\n",
              "</table>\n",
              "</div>\n",
              "      <button class=\"colab-df-convert\" onclick=\"convertToInteractive('df-d0217395-b4d4-4266-a913-4a46a18024c6')\"\n",
              "              title=\"Convert this dataframe to an interactive table.\"\n",
              "              style=\"display:none;\">\n",
              "        \n",
              "  <svg xmlns=\"http://www.w3.org/2000/svg\" height=\"24px\"viewBox=\"0 0 24 24\"\n",
              "       width=\"24px\">\n",
              "    <path d=\"M0 0h24v24H0V0z\" fill=\"none\"/>\n",
              "    <path d=\"M18.56 5.44l.94 2.06.94-2.06 2.06-.94-2.06-.94-.94-2.06-.94 2.06-2.06.94zm-11 1L8.5 8.5l.94-2.06 2.06-.94-2.06-.94L8.5 2.5l-.94 2.06-2.06.94zm10 10l.94 2.06.94-2.06 2.06-.94-2.06-.94-.94-2.06-.94 2.06-2.06.94z\"/><path d=\"M17.41 7.96l-1.37-1.37c-.4-.4-.92-.59-1.43-.59-.52 0-1.04.2-1.43.59L10.3 9.45l-7.72 7.72c-.78.78-.78 2.05 0 2.83L4 21.41c.39.39.9.59 1.41.59.51 0 1.02-.2 1.41-.59l7.78-7.78 2.81-2.81c.8-.78.8-2.07 0-2.86zM5.41 20L4 18.59l7.72-7.72 1.47 1.35L5.41 20z\"/>\n",
              "  </svg>\n",
              "      </button>\n",
              "      \n",
              "  <style>\n",
              "    .colab-df-container {\n",
              "      display:flex;\n",
              "      flex-wrap:wrap;\n",
              "      gap: 12px;\n",
              "    }\n",
              "\n",
              "    .colab-df-convert {\n",
              "      background-color: #E8F0FE;\n",
              "      border: none;\n",
              "      border-radius: 50%;\n",
              "      cursor: pointer;\n",
              "      display: none;\n",
              "      fill: #1967D2;\n",
              "      height: 32px;\n",
              "      padding: 0 0 0 0;\n",
              "      width: 32px;\n",
              "    }\n",
              "\n",
              "    .colab-df-convert:hover {\n",
              "      background-color: #E2EBFA;\n",
              "      box-shadow: 0px 1px 2px rgba(60, 64, 67, 0.3), 0px 1px 3px 1px rgba(60, 64, 67, 0.15);\n",
              "      fill: #174EA6;\n",
              "    }\n",
              "\n",
              "    [theme=dark] .colab-df-convert {\n",
              "      background-color: #3B4455;\n",
              "      fill: #D2E3FC;\n",
              "    }\n",
              "\n",
              "    [theme=dark] .colab-df-convert:hover {\n",
              "      background-color: #434B5C;\n",
              "      box-shadow: 0px 1px 3px 1px rgba(0, 0, 0, 0.15);\n",
              "      filter: drop-shadow(0px 1px 2px rgba(0, 0, 0, 0.3));\n",
              "      fill: #FFFFFF;\n",
              "    }\n",
              "  </style>\n",
              "\n",
              "      <script>\n",
              "        const buttonEl =\n",
              "          document.querySelector('#df-d0217395-b4d4-4266-a913-4a46a18024c6 button.colab-df-convert');\n",
              "        buttonEl.style.display =\n",
              "          google.colab.kernel.accessAllowed ? 'block' : 'none';\n",
              "\n",
              "        async function convertToInteractive(key) {\n",
              "          const element = document.querySelector('#df-d0217395-b4d4-4266-a913-4a46a18024c6');\n",
              "          const dataTable =\n",
              "            await google.colab.kernel.invokeFunction('convertToInteractive',\n",
              "                                                     [key], {});\n",
              "          if (!dataTable) return;\n",
              "\n",
              "          const docLinkHtml = 'Like what you see? Visit the ' +\n",
              "            '<a target=\"_blank\" href=https://colab.research.google.com/notebooks/data_table.ipynb>data table notebook</a>'\n",
              "            + ' to learn more about interactive tables.';\n",
              "          element.innerHTML = '';\n",
              "          dataTable['output_type'] = 'display_data';\n",
              "          await google.colab.output.renderOutput(dataTable, element);\n",
              "          const docLink = document.createElement('div');\n",
              "          docLink.innerHTML = docLinkHtml;\n",
              "          element.appendChild(docLink);\n",
              "        }\n",
              "      </script>\n",
              "    </div>\n",
              "  </div>\n",
              "  "
            ]
          },
          "metadata": {},
          "execution_count": 18
        }
      ],
      "source": [
        "df.describe()"
      ],
      "id": "60002167"
    },
    {
      "cell_type": "code",
      "execution_count": null,
      "metadata": {
        "id": "71c96bea"
      },
      "outputs": [],
      "source": [
        "def vis_univar(data, column):\n",
        "    sns.color_palette(\"pastel\")\n",
        "    fig, (ax_box, ax_hist) = plt.subplots(2, sharex = True, gridspec_kw = {'height_ratios':(.2, .8)})\n",
        "    \n",
        "    sns.boxplot(data = df, x = column, ax = ax_box)\n",
        "    sns.histplot(data = df, x = column, ax = ax_hist)\n",
        "    \n",
        "    ax_box.set(xlabel = '')\n",
        "    ax_hist.set(ylabel = 'Histogram (Count)')\n",
        "    \n",
        "    plt.show()"
      ],
      "id": "71c96bea"
    },
    {
      "cell_type": "code",
      "execution_count": null,
      "metadata": {
        "colab": {
          "base_uri": "https://localhost:8080/",
          "height": 279
        },
        "id": "dca135ca",
        "outputId": "f558795d-eb8e-42af-d5ec-33d442522f32"
      },
      "outputs": [
        {
          "output_type": "display_data",
          "data": {
            "text/plain": [
              "<Figure size 432x288 with 2 Axes>"
            ],
            "image/png": "[encoded data removed]"
          },
          "metadata": {
            "needs_background": "light"
          }
        }
      ],
      "source": [
        "vis_univar(df, 'DayCalls')"
      ],
      "id": "dca135ca"
    },
    {
      "cell_type": "code",
      "execution_count": null,
      "metadata": {
        "colab": {
          "base_uri": "https://localhost:8080/",
          "height": 112
        },
        "id": "5aa94486",
        "outputId": "a0924cb5-36f9-4c84-9e34-d0094fadadf1"
      },
      "outputs": [
        {
          "output_type": "execute_result",
          "data": {
            "text/plain": [
              "      Churn  AccountWeeks  ContractRenewal  DataPlan  DataUsage  \\\n",
              "1345      1            98                1         0        0.0   \n",
              "1397      0           101                1         0        0.3   \n",
              "\n",
              "      CustServCalls  DayMins  DayCalls  MonthlyCharge  OverageFee  RoamMins  \n",
              "1345              4      0.0         0           14.0        7.98       6.8  \n",
              "1397              1      0.0         0           20.0        9.61       7.2  "
            ],
            "text/html": [
              "\n",
              "  <div id=\"df-5e9014ee-cf4b-46b7-b7e4-062383c10759\">\n",
              "    <div class=\"colab-df-container\">\n",
              "      <div>\n",
              "<style scoped>\n",
              "    .dataframe tbody tr th:only-of-type {\n",
              "        vertical-align: middle;\n",
              "    }\n",
              "\n",
              "    .dataframe tbody tr th {\n",
              "        vertical-align: top;\n",
              "    }\n",
              "\n",
              "    .dataframe thead th {\n",
              "        text-align: right;\n",
              "    }\n",
              "</style>\n",
              "<table border=\"1\" class=\"dataframe\">\n",
              "  <thead>\n",
              "    <tr style=\"text-align: right;\">\n",
              "      <th></th>\n",
              "      <th>Churn</th>\n",
              "      <th>AccountWeeks</th>\n",
              "      <th>ContractRenewal</th>\n",
              "      <th>DataPlan</th>\n",
              "      <th>DataUsage</th>\n",
              "      <th>CustServCalls</th>\n",
              "      <th>DayMins</th>\n",
              "      <th>DayCalls</th>\n",
              "      <th>MonthlyCharge</th>\n",
              "      <th>OverageFee</th>\n",
              "      <th>RoamMins</th>\n",
              "    </tr>\n",
              "  </thead>\n",
              "  <tbody>\n",
              "    <tr>\n",
              "      <th>1345</th>\n",
              "      <td>1</td>\n",
              "      <td>98</td>\n",
              "      <td>1</td>\n",
              "      <td>0</td>\n",
              "      <td>0.0</td>\n",
              "      <td>4</td>\n",
              "      <td>0.0</td>\n",
              "      <td>0</td>\n",
              "      <td>14.0</td>\n",
              "      <td>7.98</td>\n",
              "      <td>6.8</td>\n",
              "    </tr>\n",
              "    <tr>\n",
              "      <th>1397</th>\n",
              "      <td>0</td>\n",
              "      <td>101</td>\n",
              "      <td>1</td>\n",
              "      <td>0</td>\n",
              "      <td>0.3</td>\n",
              "      <td>1</td>\n",
              "      <td>0.0</td>\n",
              "      <td>0</td>\n",
              "      <td>20.0</td>\n",
              "      <td>9.61</td>\n",
              "      <td>7.2</td>\n",
              "    </tr>\n",
              "  </tbody>\n",
              "</table>\n",
              "</div>\n",
              "      <button class=\"colab-df-convert\" onclick=\"convertToInteractive('df-5e9014ee-cf4b-46b7-b7e4-062383c10759')\"\n",
              "              title=\"Convert this dataframe to an interactive table.\"\n",
              "              style=\"display:none;\">\n",
              "        \n",
              "  <svg xmlns=\"http://www.w3.org/2000/svg\" height=\"24px\"viewBox=\"0 0 24 24\"\n",
              "       width=\"24px\">\n",
              "    <path d=\"M0 0h24v24H0V0z\" fill=\"none\"/>\n",
              "    <path d=\"M18.56 5.44l.94 2.06.94-2.06 2.06-.94-2.06-.94-.94-2.06-.94 2.06-2.06.94zm-11 1L8.5 8.5l.94-2.06 2.06-.94-2.06-.94L8.5 2.5l-.94 2.06-2.06.94zm10 10l.94 2.06.94-2.06 2.06-.94-2.06-.94-.94-2.06-.94 2.06-2.06.94z\"/><path d=\"M17.41 7.96l-1.37-1.37c-.4-.4-.92-.59-1.43-.59-.52 0-1.04.2-1.43.59L10.3 9.45l-7.72 7.72c-.78.78-.78 2.05 0 2.83L4 21.41c.39.39.9.59 1.41.59.51 0 1.02-.2 1.41-.59l7.78-7.78 2.81-2.81c.8-.78.8-2.07 0-2.86zM5.41 20L4 18.59l7.72-7.72 1.47 1.35L5.41 20z\"/>\n",
              "  </svg>\n",
              "      </button>\n",
              "      \n",
              "  <style>\n",
              "    .colab-df-container {\n",
              "      display:flex;\n",
              "      flex-wrap:wrap;\n",
              "      gap: 12px;\n",
              "    }\n",
              "\n",
              "    .colab-df-convert {\n",
              "      background-color: #E8F0FE;\n",
              "      border: none;\n",
              "      border-radius: 50%;\n",
              "      cursor: pointer;\n",
              "      display: none;\n",
              "      fill: #1967D2;\n",
              "      height: 32px;\n",
              "      padding: 0 0 0 0;\n",
              "      width: 32px;\n",
              "    }\n",
              "\n",
              "    .colab-df-convert:hover {\n",
              "      background-color: #E2EBFA;\n",
              "      box-shadow: 0px 1px 2px rgba(60, 64, 67, 0.3), 0px 1px 3px 1px rgba(60, 64, 67, 0.15);\n",
              "      fill: #174EA6;\n",
              "    }\n",
              "\n",
              "    [theme=dark] .colab-df-convert {\n",
              "      background-color: #3B4455;\n",
              "      fill: #D2E3FC;\n",
              "    }\n",
              "\n",
              "    [theme=dark] .colab-df-convert:hover {\n",
              "      background-color: #434B5C;\n",
              "      box-shadow: 0px 1px 3px 1px rgba(0, 0, 0, 0.15);\n",
              "      filter: drop-shadow(0px 1px 2px rgba(0, 0, 0, 0.3));\n",
              "      fill: #FFFFFF;\n",
              "    }\n",
              "  </style>\n",
              "\n",
              "      <script>\n",
              "        const buttonEl =\n",
              "          document.querySelector('#df-5e9014ee-cf4b-46b7-b7e4-062383c10759 button.colab-df-convert');\n",
              "        buttonEl.style.display =\n",
              "          google.colab.kernel.accessAllowed ? 'block' : 'none';\n",
              "\n",
              "        async function convertToInteractive(key) {\n",
              "          const element = document.querySelector('#df-5e9014ee-cf4b-46b7-b7e4-062383c10759');\n",
              "          const dataTable =\n",
              "            await google.colab.kernel.invokeFunction('convertToInteractive',\n",
              "                                                     [key], {});\n",
              "          if (!dataTable) return;\n",
              "\n",
              "          const docLinkHtml = 'Like what you see? Visit the ' +\n",
              "            '<a target=\"_blank\" href=https://colab.research.google.com/notebooks/data_table.ipynb>data table notebook</a>'\n",
              "            + ' to learn more about interactive tables.';\n",
              "          element.innerHTML = '';\n",
              "          dataTable['output_type'] = 'display_data';\n",
              "          await google.colab.output.renderOutput(dataTable, element);\n",
              "          const docLink = document.createElement('div');\n",
              "          docLink.innerHTML = docLinkHtml;\n",
              "          element.appendChild(docLink);\n",
              "        }\n",
              "      </script>\n",
              "    </div>\n",
              "  </div>\n",
              "  "
            ]
          },
          "metadata": {},
          "execution_count": 21
        }
      ],
      "source": [
        "df.loc[(df['DayCalls'] < 25)] "
      ],
      "id": "5aa94486"
    },
    {
      "cell_type": "code",
      "execution_count": null,
      "metadata": {
        "colab": {
          "base_uri": "https://localhost:8080/",
          "height": 112
        },
        "id": "a4da7958",
        "outputId": "72623a8a-6726-4cf1-a67d-7cb8334c6039"
      },
      "outputs": [
        {
          "output_type": "execute_result",
          "data": {
            "text/plain": [
              "      Churn  AccountWeeks  ContractRenewal  DataPlan  DataUsage  \\\n",
              "1345      1            98                1         0        0.0   \n",
              "1397      0           101                1         0        0.3   \n",
              "\n",
              "      CustServCalls  DayMins  DayCalls  MonthlyCharge  OverageFee  RoamMins  \n",
              "1345              4      0.0         0           14.0        7.98       6.8  \n",
              "1397              1      0.0         0           20.0        9.61       7.2  "
            ],
            "text/html": [
              "\n",
              "  <div id=\"df-0c7bd887-6506-477d-aadc-6eb525c72d3b\">\n",
              "    <div class=\"colab-df-container\">\n",
              "      <div>\n",
              "<style scoped>\n",
              "    .dataframe tbody tr th:only-of-type {\n",
              "        vertical-align: middle;\n",
              "    }\n",
              "\n",
              "    .dataframe tbody tr th {\n",
              "        vertical-align: top;\n",
              "    }\n",
              "\n",
              "    .dataframe thead th {\n",
              "        text-align: right;\n",
              "    }\n",
              "</style>\n",
              "<table border=\"1\" class=\"dataframe\">\n",
              "  <thead>\n",
              "    <tr style=\"text-align: right;\">\n",
              "      <th></th>\n",
              "      <th>Churn</th>\n",
              "      <th>AccountWeeks</th>\n",
              "      <th>ContractRenewal</th>\n",
              "      <th>DataPlan</th>\n",
              "      <th>DataUsage</th>\n",
              "      <th>CustServCalls</th>\n",
              "      <th>DayMins</th>\n",
              "      <th>DayCalls</th>\n",
              "      <th>MonthlyCharge</th>\n",
              "      <th>OverageFee</th>\n",
              "      <th>RoamMins</th>\n",
              "    </tr>\n",
              "  </thead>\n",
              "  <tbody>\n",
              "    <tr>\n",
              "      <th>1345</th>\n",
              "      <td>1</td>\n",
              "      <td>98</td>\n",
              "      <td>1</td>\n",
              "      <td>0</td>\n",
              "      <td>0.0</td>\n",
              "      <td>4</td>\n",
              "      <td>0.0</td>\n",
              "      <td>0</td>\n",
              "      <td>14.0</td>\n",
              "      <td>7.98</td>\n",
              "      <td>6.8</td>\n",
              "    </tr>\n",
              "    <tr>\n",
              "      <th>1397</th>\n",
              "      <td>0</td>\n",
              "      <td>101</td>\n",
              "      <td>1</td>\n",
              "      <td>0</td>\n",
              "      <td>0.3</td>\n",
              "      <td>1</td>\n",
              "      <td>0.0</td>\n",
              "      <td>0</td>\n",
              "      <td>20.0</td>\n",
              "      <td>9.61</td>\n",
              "      <td>7.2</td>\n",
              "    </tr>\n",
              "  </tbody>\n",
              "</table>\n",
              "</div>\n",
              "      <button class=\"colab-df-convert\" onclick=\"convertToInteractive('df-0c7bd887-6506-477d-aadc-6eb525c72d3b')\"\n",
              "              title=\"Convert this dataframe to an interactive table.\"\n",
              "              style=\"display:none;\">\n",
              "        \n",
              "  <svg xmlns=\"http://www.w3.org/2000/svg\" height=\"24px\"viewBox=\"0 0 24 24\"\n",
              "       width=\"24px\">\n",
              "    <path d=\"M0 0h24v24H0V0z\" fill=\"none\"/>\n",
              "    <path d=\"M18.56 5.44l.94 2.06.94-2.06 2.06-.94-2.06-.94-.94-2.06-.94 2.06-2.06.94zm-11 1L8.5 8.5l.94-2.06 2.06-.94-2.06-.94L8.5 2.5l-.94 2.06-2.06.94zm10 10l.94 2.06.94-2.06 2.06-.94-2.06-.94-.94-2.06-.94 2.06-2.06.94z\"/><path d=\"M17.41 7.96l-1.37-1.37c-.4-.4-.92-.59-1.43-.59-.52 0-1.04.2-1.43.59L10.3 9.45l-7.72 7.72c-.78.78-.78 2.05 0 2.83L4 21.41c.39.39.9.59 1.41.59.51 0 1.02-.2 1.41-.59l7.78-7.78 2.81-2.81c.8-.78.8-2.07 0-2.86zM5.41 20L4 18.59l7.72-7.72 1.47 1.35L5.41 20z\"/>\n",
              "  </svg>\n",
              "      </button>\n",
              "      \n",
              "  <style>\n",
              "    .colab-df-container {\n",
              "      display:flex;\n",
              "      flex-wrap:wrap;\n",
              "      gap: 12px;\n",
              "    }\n",
              "\n",
              "    .colab-df-convert {\n",
              "      background-color: #E8F0FE;\n",
              "      border: none;\n",
              "      border-radius: 50%;\n",
              "      cursor: pointer;\n",
              "      display: none;\n",
              "      fill: #1967D2;\n",
              "      height: 32px;\n",
              "      padding: 0 0 0 0;\n",
              "      width: 32px;\n",
              "    }\n",
              "\n",
              "    .colab-df-convert:hover {\n",
              "      background-color: #E2EBFA;\n",
              "      box-shadow: 0px 1px 2px rgba(60, 64, 67, 0.3), 0px 1px 3px 1px rgba(60, 64, 67, 0.15);\n",
              "      fill: #174EA6;\n",
              "    }\n",
              "\n",
              "    [theme=dark] .colab-df-convert {\n",
              "      background-color: #3B4455;\n",
              "      fill: #D2E3FC;\n",
              "    }\n",
              "\n",
              "    [theme=dark] .colab-df-convert:hover {\n",
              "      background-color: #434B5C;\n",
              "      box-shadow: 0px 1px 3px 1px rgba(0, 0, 0, 0.15);\n",
              "      filter: drop-shadow(0px 1px 2px rgba(0, 0, 0, 0.3));\n",
              "      fill: #FFFFFF;\n",
              "    }\n",
              "  </style>\n",
              "\n",
              "      <script>\n",
              "        const buttonEl =\n",
              "          document.querySelector('#df-0c7bd887-6506-477d-aadc-6eb525c72d3b button.colab-df-convert');\n",
              "        buttonEl.style.display =\n",
              "          google.colab.kernel.accessAllowed ? 'block' : 'none';\n",
              "\n",
              "        async function convertToInteractive(key) {\n",
              "          const element = document.querySelector('#df-0c7bd887-6506-477d-aadc-6eb525c72d3b');\n",
              "          const dataTable =\n",
              "            await google.colab.kernel.invokeFunction('convertToInteractive',\n",
              "                                                     [key], {});\n",
              "          if (!dataTable) return;\n",
              "\n",
              "          const docLinkHtml = 'Like what you see? Visit the ' +\n",
              "            '<a target=\"_blank\" href=https://colab.research.google.com/notebooks/data_table.ipynb>data table notebook</a>'\n",
              "            + ' to learn more about interactive tables.';\n",
              "          element.innerHTML = '';\n",
              "          dataTable['output_type'] = 'display_data';\n",
              "          await google.colab.output.renderOutput(dataTable, element);\n",
              "          const docLink = document.createElement('div');\n",
              "          docLink.innerHTML = docLinkHtml;\n",
              "          element.appendChild(docLink);\n",
              "        }\n",
              "      </script>\n",
              "    </div>\n",
              "  </div>\n",
              "  "
            ]
          },
          "metadata": {},
          "execution_count": 22
        }
      ],
      "source": [
        "df.loc[df['DayCalls'] == 0]"
      ],
      "id": "a4da7958"
    },
    {
      "cell_type": "markdown",
      "metadata": {
        "id": "45f3b652"
      },
      "source": [
        "Berdasarkan boxplot terdapat outlier pada kolom 'DayCalls' dimana terdapat 2 customer yang memiliki rata-rata telfon harian = 0 namun sudah berlangganan selama beberapa minggu dan membayar sewa bulanan. Oleh karena itu, data outlier pada 'DayCalls' akan di hilangkan."
      ],
      "id": "45f3b652"
    },
    {
      "cell_type": "code",
      "execution_count": null,
      "metadata": {
        "colab": {
          "base_uri": "https://localhost:8080/",
          "height": 424
        },
        "id": "ce7ef6ab",
        "outputId": "3f144d60-cf80-4744-90ab-72ae3acb7c09"
      },
      "outputs": [
        {
          "output_type": "execute_result",
          "data": {
            "text/plain": [
              "      Churn  AccountWeeks  ContractRenewal  DataPlan  DataUsage  \\\n",
              "0         0           128                1         1       2.70   \n",
              "1         0           107                1         1       3.70   \n",
              "2         0           137                1         0       0.00   \n",
              "3         0            84                0         0       0.00   \n",
              "4         0            75                0         0       0.00   \n",
              "...     ...           ...              ...       ...        ...   \n",
              "3326      0           192                1         1       2.67   \n",
              "3327      0            68                1         0       0.34   \n",
              "3328      0            28                1         0       0.00   \n",
              "3329      0           184                0         0       0.00   \n",
              "3330      0            74                1         1       3.70   \n",
              "\n",
              "      CustServCalls  DayMins  DayCalls  MonthlyCharge  OverageFee  RoamMins  \n",
              "0                 1    265.1       110           89.0        9.87      10.0  \n",
              "1                 1    161.6       123           82.0        9.78      13.7  \n",
              "2                 0    243.4       114           52.0        6.06      12.2  \n",
              "3                 2    299.4        71           57.0        3.10       6.6  \n",
              "4                 3    166.7       113           41.0        7.42      10.1  \n",
              "...             ...      ...       ...            ...         ...       ...  \n",
              "3326              2    156.2        77           71.7       10.78       9.9  \n",
              "3327              3    231.1        57           56.4        7.67       9.6  \n",
              "3328              2    180.8       109           56.0       14.44      14.1  \n",
              "3329              2    213.8       105           50.0        7.98       5.0  \n",
              "3330              0    234.4       113          100.0       13.30      13.7  \n",
              "\n",
              "[3331 rows x 11 columns]"
            ],
            "text/html": [
              "\n",
              "  <div id=\"df-8860f8c8-4da5-4c95-9a75-d7aff0bd7afa\">\n",
              "    <div class=\"colab-df-container\">\n",
              "      <div>\n",
              "<style scoped>\n",
              "    .dataframe tbody tr th:only-of-type {\n",
              "        vertical-align: middle;\n",
              "    }\n",
              "\n",
              "    .dataframe tbody tr th {\n",
              "        vertical-align: top;\n",
              "    }\n",
              "\n",
              "    .dataframe thead th {\n",
              "        text-align: right;\n",
              "    }\n",
              "</style>\n",
              "<table border=\"1\" class=\"dataframe\">\n",
              "  <thead>\n",
              "    <tr style=\"text-align: right;\">\n",
              "      <th></th>\n",
              "      <th>Churn</th>\n",
              "      <th>AccountWeeks</th>\n",
              "      <th>ContractRenewal</th>\n",
              "      <th>DataPlan</th>\n",
              "      <th>DataUsage</th>\n",
              "      <th>CustServCalls</th>\n",
              "      <th>DayMins</th>\n",
              "      <th>DayCalls</th>\n",
              "      <th>MonthlyCharge</th>\n",
              "      <th>OverageFee</th>\n",
              "      <th>RoamMins</th>\n",
              "    </tr>\n",
              "  </thead>\n",
              "  <tbody>\n",
              "    <tr>\n",
              "      <th>0</th>\n",
              "      <td>0</td>\n",
              "      <td>128</td>\n",
              "      <td>1</td>\n",
              "      <td>1</td>\n",
              "      <td>2.70</td>\n",
              "      <td>1</td>\n",
              "      <td>265.1</td>\n",
              "      <td>110</td>\n",
              "      <td>89.0</td>\n",
              "      <td>9.87</td>\n",
              "      <td>10.0</td>\n",
              "    </tr>\n",
              "    <tr>\n",
              "      <th>1</th>\n",
              "      <td>0</td>\n",
              "      <td>107</td>\n",
              "      <td>1</td>\n",
              "      <td>1</td>\n",
              "      <td>3.70</td>\n",
              "      <td>1</td>\n",
              "      <td>161.6</td>\n",
              "      <td>123</td>\n",
              "      <td>82.0</td>\n",
              "      <td>9.78</td>\n",
              "      <td>13.7</td>\n",
              "    </tr>\n",
              "    <tr>\n",
              "      <th>2</th>\n",
              "      <td>0</td>\n",
              "      <td>137</td>\n",
              "      <td>1</td>\n",
              "      <td>0</td>\n",
              "      <td>0.00</td>\n",
              "      <td>0</td>\n",
              "      <td>243.4</td>\n",
              "      <td>114</td>\n",
              "      <td>52.0</td>\n",
              "      <td>6.06</td>\n",
              "      <td>12.2</td>\n",
              "    </tr>\n",
              "    <tr>\n",
              "      <th>3</th>\n",
              "      <td>0</td>\n",
              "      <td>84</td>\n",
              "      <td>0</td>\n",
              "      <td>0</td>\n",
              "      <td>0.00</td>\n",
              "      <td>2</td>\n",
              "      <td>299.4</td>\n",
              "      <td>71</td>\n",
              "      <td>57.0</td>\n",
              "      <td>3.10</td>\n",
              "      <td>6.6</td>\n",
              "    </tr>\n",
              "    <tr>\n",
              "      <th>4</th>\n",
              "      <td>0</td>\n",
              "      <td>75</td>\n",
              "      <td>0</td>\n",
              "      <td>0</td>\n",
              "      <td>0.00</td>\n",
              "      <td>3</td>\n",
              "      <td>166.7</td>\n",
              "      <td>113</td>\n",
              "      <td>41.0</td>\n",
              "      <td>7.42</td>\n",
              "      <td>10.1</td>\n",
              "    </tr>\n",
              "    <tr>\n",
              "      <th>...</th>\n",
              "      <td>...</td>\n",
              "      <td>...</td>\n",
              "      <td>...</td>\n",
              "      <td>...</td>\n",
              "      <td>...</td>\n",
              "      <td>...</td>\n",
              "      <td>...</td>\n",
              "      <td>...</td>\n",
              "      <td>...</td>\n",
              "      <td>...</td>\n",
              "      <td>...</td>\n",
              "    </tr>\n",
              "    <tr>\n",
              "      <th>3326</th>\n",
              "      <td>0</td>\n",
              "      <td>192</td>\n",
              "      <td>1</td>\n",
              "      <td>1</td>\n",
              "      <td>2.67</td>\n",
              "      <td>2</td>\n",
              "      <td>156.2</td>\n",
              "      <td>77</td>\n",
              "      <td>71.7</td>\n",
              "      <td>10.78</td>\n",
              "      <td>9.9</td>\n",
              "    </tr>\n",
              "    <tr>\n",
              "      <th>3327</th>\n",
              "      <td>0</td>\n",
              "      <td>68</td>\n",
              "      <td>1</td>\n",
              "      <td>0</td>\n",
              "      <td>0.34</td>\n",
              "      <td>3</td>\n",
              "      <td>231.1</td>\n",
              "      <td>57</td>\n",
              "      <td>56.4</td>\n",
              "      <td>7.67</td>\n",
              "      <td>9.6</td>\n",
              "    </tr>\n",
              "    <tr>\n",
              "      <th>3328</th>\n",
              "      <td>0</td>\n",
              "      <td>28</td>\n",
              "      <td>1</td>\n",
              "      <td>0</td>\n",
              "      <td>0.00</td>\n",
              "      <td>2</td>\n",
              "      <td>180.8</td>\n",
              "      <td>109</td>\n",
              "      <td>56.0</td>\n",
              "      <td>14.44</td>\n",
              "      <td>14.1</td>\n",
              "    </tr>\n",
              "    <tr>\n",
              "      <th>3329</th>\n",
              "      <td>0</td>\n",
              "      <td>184</td>\n",
              "      <td>0</td>\n",
              "      <td>0</td>\n",
              "      <td>0.00</td>\n",
              "      <td>2</td>\n",
              "      <td>213.8</td>\n",
              "      <td>105</td>\n",
              "      <td>50.0</td>\n",
              "      <td>7.98</td>\n",
              "      <td>5.0</td>\n",
              "    </tr>\n",
              "    <tr>\n",
              "      <th>3330</th>\n",
              "      <td>0</td>\n",
              "      <td>74</td>\n",
              "      <td>1</td>\n",
              "      <td>1</td>\n",
              "      <td>3.70</td>\n",
              "      <td>0</td>\n",
              "      <td>234.4</td>\n",
              "      <td>113</td>\n",
              "      <td>100.0</td>\n",
              "      <td>13.30</td>\n",
              "      <td>13.7</td>\n",
              "    </tr>\n",
              "  </tbody>\n",
              "</table>\n",
              "<p>3331 rows × 11 columns</p>\n",
              "</div>\n",
              "      <button class=\"colab-df-convert\" onclick=\"convertToInteractive('df-8860f8c8-4da5-4c95-9a75-d7aff0bd7afa')\"\n",
              "              title=\"Convert this dataframe to an interactive table.\"\n",
              "              style=\"display:none;\">\n",
              "        \n",
              "  <svg xmlns=\"http://www.w3.org/2000/svg\" height=\"24px\"viewBox=\"0 0 24 24\"\n",
              "       width=\"24px\">\n",
              "    <path d=\"M0 0h24v24H0V0z\" fill=\"none\"/>\n",
              "    <path d=\"M18.56 5.44l.94 2.06.94-2.06 2.06-.94-2.06-.94-.94-2.06-.94 2.06-2.06.94zm-11 1L8.5 8.5l.94-2.06 2.06-.94-2.06-.94L8.5 2.5l-.94 2.06-2.06.94zm10 10l.94 2.06.94-2.06 2.06-.94-2.06-.94-.94-2.06-.94 2.06-2.06.94z\"/><path d=\"M17.41 7.96l-1.37-1.37c-.4-.4-.92-.59-1.43-.59-.52 0-1.04.2-1.43.59L10.3 9.45l-7.72 7.72c-.78.78-.78 2.05 0 2.83L4 21.41c.39.39.9.59 1.41.59.51 0 1.02-.2 1.41-.59l7.78-7.78 2.81-2.81c.8-.78.8-2.07 0-2.86zM5.41 20L4 18.59l7.72-7.72 1.47 1.35L5.41 20z\"/>\n",
              "  </svg>\n",
              "      </button>\n",
              "      \n",
              "  <style>\n",
              "    .colab-df-container {\n",
              "      display:flex;\n",
              "      flex-wrap:wrap;\n",
              "      gap: 12px;\n",
              "    }\n",
              "\n",
              "    .colab-df-convert {\n",
              "      background-color: #E8F0FE;\n",
              "      border: none;\n",
              "      border-radius: 50%;\n",
              "      cursor: pointer;\n",
              "      display: none;\n",
              "      fill: #1967D2;\n",
              "      height: 32px;\n",
              "      padding: 0 0 0 0;\n",
              "      width: 32px;\n",
              "    }\n",
              "\n",
              "    .colab-df-convert:hover {\n",
              "      background-color: #E2EBFA;\n",
              "      box-shadow: 0px 1px 2px rgba(60, 64, 67, 0.3), 0px 1px 3px 1px rgba(60, 64, 67, 0.15);\n",
              "      fill: #174EA6;\n",
              "    }\n",
              "\n",
              "    [theme=dark] .colab-df-convert {\n",
              "      background-color: #3B4455;\n",
              "      fill: #D2E3FC;\n",
              "    }\n",
              "\n",
              "    [theme=dark] .colab-df-convert:hover {\n",
              "      background-color: #434B5C;\n",
              "      box-shadow: 0px 1px 3px 1px rgba(0, 0, 0, 0.15);\n",
              "      filter: drop-shadow(0px 1px 2px rgba(0, 0, 0, 0.3));\n",
              "      fill: #FFFFFF;\n",
              "    }\n",
              "  </style>\n",
              "\n",
              "      <script>\n",
              "        const buttonEl =\n",
              "          document.querySelector('#df-8860f8c8-4da5-4c95-9a75-d7aff0bd7afa button.colab-df-convert');\n",
              "        buttonEl.style.display =\n",
              "          google.colab.kernel.accessAllowed ? 'block' : 'none';\n",
              "\n",
              "        async function convertToInteractive(key) {\n",
              "          const element = document.querySelector('#df-8860f8c8-4da5-4c95-9a75-d7aff0bd7afa');\n",
              "          const dataTable =\n",
              "            await google.colab.kernel.invokeFunction('convertToInteractive',\n",
              "                                                     [key], {});\n",
              "          if (!dataTable) return;\n",
              "\n",
              "          const docLinkHtml = 'Like what you see? Visit the ' +\n",
              "            '<a target=\"_blank\" href=https://colab.research.google.com/notebooks/data_table.ipynb>data table notebook</a>'\n",
              "            + ' to learn more about interactive tables.';\n",
              "          element.innerHTML = '';\n",
              "          dataTable['output_type'] = 'display_data';\n",
              "          await google.colab.output.renderOutput(dataTable, element);\n",
              "          const docLink = document.createElement('div');\n",
              "          docLink.innerHTML = docLinkHtml;\n",
              "          element.appendChild(docLink);\n",
              "        }\n",
              "      </script>\n",
              "    </div>\n",
              "  </div>\n",
              "  "
            ]
          },
          "metadata": {},
          "execution_count": 23
        }
      ],
      "source": [
        "df = df[df['DayCalls'] != 0].reset_index(drop = True)\n",
        "df"
      ],
      "id": "ce7ef6ab"
    },
    {
      "cell_type": "code",
      "execution_count": null,
      "metadata": {
        "colab": {
          "base_uri": "https://localhost:8080/",
          "height": 279
        },
        "id": "swTuFdIDUF1q",
        "outputId": "86f2ac62-92c7-4814-9aad-8a0d6f24a2ed"
      },
      "outputs": [
        {
          "output_type": "display_data",
          "data": {
            "text/plain": [
              "<Figure size 432x288 with 2 Axes>"
            ],
            "image/png": "[encoded data removed]"
          },
          "metadata": {
            "needs_background": "light"
          }
        }
      ],
      "source": [
        "vis_univar(df, 'DayCalls')"
      ],
      "id": "swTuFdIDUF1q"
    },
    {
      "cell_type": "code",
      "execution_count": null,
      "metadata": {
        "colab": {
          "base_uri": "https://localhost:8080/",
          "height": 279
        },
        "id": "c5b3a80c",
        "outputId": "2d38c9c4-6018-49a0-e5a2-b31cabbab981"
      },
      "outputs": [
        {
          "output_type": "display_data",
          "data": {
            "text/plain": [
              "<Figure size 432x288 with 2 Axes>"
            ],
            "image/png": "[encoded data removed]"
          },
          "metadata": {
            "needs_background": "light"
          }
        }
      ],
      "source": [
        "vis_univar(df, 'OverageFee')"
      ],
      "id": "c5b3a80c"
    },
    {
      "cell_type": "code",
      "execution_count": null,
      "metadata": {
        "colab": {
          "base_uri": "https://localhost:8080/",
          "height": 81
        },
        "id": "51a84fe2",
        "outputId": "3675348f-fc83-4d68-bb65-c8b9aac1e003"
      },
      "outputs": [
        {
          "output_type": "execute_result",
          "data": {
            "text/plain": [
              "      Churn  AccountWeeks  ContractRenewal  DataPlan  DataUsage  \\\n",
              "2930      0            97                1         0        0.0   \n",
              "\n",
              "      CustServCalls  DayMins  DayCalls  MonthlyCharge  OverageFee  RoamMins  \n",
              "2930              1    209.2       134           36.0         0.0      11.8  "
            ],
            "text/html": [
              "\n",
              "  <div id=\"df-b0a8b210-cb37-455e-ba85-6d4afdfc5e21\">\n",
              "    <div class=\"colab-df-container\">\n",
              "      <div>\n",
              "<style scoped>\n",
              "    .dataframe tbody tr th:only-of-type {\n",
              "        vertical-align: middle;\n",
              "    }\n",
              "\n",
              "    .dataframe tbody tr th {\n",
              "        vertical-align: top;\n",
              "    }\n",
              "\n",
              "    .dataframe thead th {\n",
              "        text-align: right;\n",
              "    }\n",
              "</style>\n",
              "<table border=\"1\" class=\"dataframe\">\n",
              "  <thead>\n",
              "    <tr style=\"text-align: right;\">\n",
              "      <th></th>\n",
              "      <th>Churn</th>\n",
              "      <th>AccountWeeks</th>\n",
              "      <th>ContractRenewal</th>\n",
              "      <th>DataPlan</th>\n",
              "      <th>DataUsage</th>\n",
              "      <th>CustServCalls</th>\n",
              "      <th>DayMins</th>\n",
              "      <th>DayCalls</th>\n",
              "      <th>MonthlyCharge</th>\n",
              "      <th>OverageFee</th>\n",
              "      <th>RoamMins</th>\n",
              "    </tr>\n",
              "  </thead>\n",
              "  <tbody>\n",
              "    <tr>\n",
              "      <th>2930</th>\n",
              "      <td>0</td>\n",
              "      <td>97</td>\n",
              "      <td>1</td>\n",
              "      <td>0</td>\n",
              "      <td>0.0</td>\n",
              "      <td>1</td>\n",
              "      <td>209.2</td>\n",
              "      <td>134</td>\n",
              "      <td>36.0</td>\n",
              "      <td>0.0</td>\n",
              "      <td>11.8</td>\n",
              "    </tr>\n",
              "  </tbody>\n",
              "</table>\n",
              "</div>\n",
              "      <button class=\"colab-df-convert\" onclick=\"convertToInteractive('df-b0a8b210-cb37-455e-ba85-6d4afdfc5e21')\"\n",
              "              title=\"Convert this dataframe to an interactive table.\"\n",
              "              style=\"display:none;\">\n",
              "        \n",
              "  <svg xmlns=\"http://www.w3.org/2000/svg\" height=\"24px\"viewBox=\"0 0 24 24\"\n",
              "       width=\"24px\">\n",
              "    <path d=\"M0 0h24v24H0V0z\" fill=\"none\"/>\n",
              "    <path d=\"M18.56 5.44l.94 2.06.94-2.06 2.06-.94-2.06-.94-.94-2.06-.94 2.06-2.06.94zm-11 1L8.5 8.5l.94-2.06 2.06-.94-2.06-.94L8.5 2.5l-.94 2.06-2.06.94zm10 10l.94 2.06.94-2.06 2.06-.94-2.06-.94-.94-2.06-.94 2.06-2.06.94z\"/><path d=\"M17.41 7.96l-1.37-1.37c-.4-.4-.92-.59-1.43-.59-.52 0-1.04.2-1.43.59L10.3 9.45l-7.72 7.72c-.78.78-.78 2.05 0 2.83L4 21.41c.39.39.9.59 1.41.59.51 0 1.02-.2 1.41-.59l7.78-7.78 2.81-2.81c.8-.78.8-2.07 0-2.86zM5.41 20L4 18.59l7.72-7.72 1.47 1.35L5.41 20z\"/>\n",
              "  </svg>\n",
              "      </button>\n",
              "      \n",
              "  <style>\n",
              "    .colab-df-container {\n",
              "      display:flex;\n",
              "      flex-wrap:wrap;\n",
              "      gap: 12px;\n",
              "    }\n",
              "\n",
              "    .colab-df-convert {\n",
              "      background-color: #E8F0FE;\n",
              "      border: none;\n",
              "      border-radius: 50%;\n",
              "      cursor: pointer;\n",
              "      display: none;\n",
              "      fill: #1967D2;\n",
              "      height: 32px;\n",
              "      padding: 0 0 0 0;\n",
              "      width: 32px;\n",
              "    }\n",
              "\n",
              "    .colab-df-convert:hover {\n",
              "      background-color: #E2EBFA;\n",
              "      box-shadow: 0px 1px 2px rgba(60, 64, 67, 0.3), 0px 1px 3px 1px rgba(60, 64, 67, 0.15);\n",
              "      fill: #174EA6;\n",
              "    }\n",
              "\n",
              "    [theme=dark] .colab-df-convert {\n",
              "      background-color: #3B4455;\n",
              "      fill: #D2E3FC;\n",
              "    }\n",
              "\n",
              "    [theme=dark] .colab-df-convert:hover {\n",
              "      background-color: #434B5C;\n",
              "      box-shadow: 0px 1px 3px 1px rgba(0, 0, 0, 0.15);\n",
              "      filter: drop-shadow(0px 1px 2px rgba(0, 0, 0, 0.3));\n",
              "      fill: #FFFFFF;\n",
              "    }\n",
              "  </style>\n",
              "\n",
              "      <script>\n",
              "        const buttonEl =\n",
              "          document.querySelector('#df-b0a8b210-cb37-455e-ba85-6d4afdfc5e21 button.colab-df-convert');\n",
              "        buttonEl.style.display =\n",
              "          google.colab.kernel.accessAllowed ? 'block' : 'none';\n",
              "\n",
              "        async function convertToInteractive(key) {\n",
              "          const element = document.querySelector('#df-b0a8b210-cb37-455e-ba85-6d4afdfc5e21');\n",
              "          const dataTable =\n",
              "            await google.colab.kernel.invokeFunction('convertToInteractive',\n",
              "                                                     [key], {});\n",
              "          if (!dataTable) return;\n",
              "\n",
              "          const docLinkHtml = 'Like what you see? Visit the ' +\n",
              "            '<a target=\"_blank\" href=https://colab.research.google.com/notebooks/data_table.ipynb>data table notebook</a>'\n",
              "            + ' to learn more about interactive tables.';\n",
              "          element.innerHTML = '';\n",
              "          dataTable['output_type'] = 'display_data';\n",
              "          await google.colab.output.renderOutput(dataTable, element);\n",
              "          const docLink = document.createElement('div');\n",
              "          docLink.innerHTML = docLinkHtml;\n",
              "          element.appendChild(docLink);\n",
              "        }\n",
              "      </script>\n",
              "    </div>\n",
              "  </div>\n",
              "  "
            ]
          },
          "metadata": {},
          "execution_count": 26
        }
      ],
      "source": [
        "df.loc[(df['OverageFee'] < 1.25)] "
      ],
      "id": "51a84fe2"
    },
    {
      "cell_type": "markdown",
      "metadata": {
        "id": "97721bdb"
      },
      "source": [
        "Berdasarkan boxplot terdapat outlier pada kolom 'OverageFee' dimana terdapat 1 customer yang memiliki biaya langganan\n",
        "tebesar yang dikeluarkan selama berlangganan = 0, padahal customer sudah berlangganan selama beberapa minggu dan\n",
        "membayar sewa bulanan. Oleh karena itu, data outlier pada 'OverageFee' akan di hilangkan."
      ],
      "id": "97721bdb"
    },
    {
      "cell_type": "code",
      "execution_count": null,
      "metadata": {
        "colab": {
          "base_uri": "https://localhost:8080/",
          "height": 424
        },
        "id": "743d8675",
        "outputId": "7bbb75e8-33a7-4218-a5cb-43f23fd369b2"
      },
      "outputs": [
        {
          "output_type": "execute_result",
          "data": {
            "text/plain": [
              "      Churn  AccountWeeks  ContractRenewal  DataPlan  DataUsage  \\\n",
              "0         0           128                1         1       2.70   \n",
              "1         0           107                1         1       3.70   \n",
              "2         0           137                1         0       0.00   \n",
              "3         0            84                0         0       0.00   \n",
              "4         0            75                0         0       0.00   \n",
              "...     ...           ...              ...       ...        ...   \n",
              "3325      0           192                1         1       2.67   \n",
              "3326      0            68                1         0       0.34   \n",
              "3327      0            28                1         0       0.00   \n",
              "3328      0           184                0         0       0.00   \n",
              "3329      0            74                1         1       3.70   \n",
              "\n",
              "      CustServCalls  DayMins  DayCalls  MonthlyCharge  OverageFee  RoamMins  \n",
              "0                 1    265.1       110           89.0        9.87      10.0  \n",
              "1                 1    161.6       123           82.0        9.78      13.7  \n",
              "2                 0    243.4       114           52.0        6.06      12.2  \n",
              "3                 2    299.4        71           57.0        3.10       6.6  \n",
              "4                 3    166.7       113           41.0        7.42      10.1  \n",
              "...             ...      ...       ...            ...         ...       ...  \n",
              "3325              2    156.2        77           71.7       10.78       9.9  \n",
              "3326              3    231.1        57           56.4        7.67       9.6  \n",
              "3327              2    180.8       109           56.0       14.44      14.1  \n",
              "3328              2    213.8       105           50.0        7.98       5.0  \n",
              "3329              0    234.4       113          100.0       13.30      13.7  \n",
              "\n",
              "[3330 rows x 11 columns]"
            ],
            "text/html": [
              "\n",
              "  <div id=\"df-32e603cf-a9f2-4b29-9c25-6ffb5fa9cc1a\">\n",
              "    <div class=\"colab-df-container\">\n",
              "      <div>\n",
              "<style scoped>\n",
              "    .dataframe tbody tr th:only-of-type {\n",
              "        vertical-align: middle;\n",
              "    }\n",
              "\n",
              "    .dataframe tbody tr th {\n",
              "        vertical-align: top;\n",
              "    }\n",
              "\n",
              "    .dataframe thead th {\n",
              "        text-align: right;\n",
              "    }\n",
              "</style>\n",
              "<table border=\"1\" class=\"dataframe\">\n",
              "  <thead>\n",
              "    <tr style=\"text-align: right;\">\n",
              "      <th></th>\n",
              "      <th>Churn</th>\n",
              "      <th>AccountWeeks</th>\n",
              "      <th>ContractRenewal</th>\n",
              "      <th>DataPlan</th>\n",
              "      <th>DataUsage</th>\n",
              "      <th>CustServCalls</th>\n",
              "      <th>DayMins</th>\n",
              "      <th>DayCalls</th>\n",
              "      <th>MonthlyCharge</th>\n",
              "      <th>OverageFee</th>\n",
              "      <th>RoamMins</th>\n",
              "    </tr>\n",
              "  </thead>\n",
              "  <tbody>\n",
              "    <tr>\n",
              "      <th>0</th>\n",
              "      <td>0</td>\n",
              "      <td>128</td>\n",
              "      <td>1</td>\n",
              "      <td>1</td>\n",
              "      <td>2.70</td>\n",
              "      <td>1</td>\n",
              "      <td>265.1</td>\n",
              "      <td>110</td>\n",
              "      <td>89.0</td>\n",
              "      <td>9.87</td>\n",
              "      <td>10.0</td>\n",
              "    </tr>\n",
              "    <tr>\n",
              "      <th>1</th>\n",
              "      <td>0</td>\n",
              "      <td>107</td>\n",
              "      <td>1</td>\n",
              "      <td>1</td>\n",
              "      <td>3.70</td>\n",
              "      <td>1</td>\n",
              "      <td>161.6</td>\n",
              "      <td>123</td>\n",
              "      <td>82.0</td>\n",
              "      <td>9.78</td>\n",
              "      <td>13.7</td>\n",
              "    </tr>\n",
              "    <tr>\n",
              "      <th>2</th>\n",
              "      <td>0</td>\n",
              "      <td>137</td>\n",
              "      <td>1</td>\n",
              "      <td>0</td>\n",
              "      <td>0.00</td>\n",
              "      <td>0</td>\n",
              "      <td>243.4</td>\n",
              "      <td>114</td>\n",
              "      <td>52.0</td>\n",
              "      <td>6.06</td>\n",
              "      <td>12.2</td>\n",
              "    </tr>\n",
              "    <tr>\n",
              "      <th>3</th>\n",
              "      <td>0</td>\n",
              "      <td>84</td>\n",
              "      <td>0</td>\n",
              "      <td>0</td>\n",
              "      <td>0.00</td>\n",
              "      <td>2</td>\n",
              "      <td>299.4</td>\n",
              "      <td>71</td>\n",
              "      <td>57.0</td>\n",
              "      <td>3.10</td>\n",
              "      <td>6.6</td>\n",
              "    </tr>\n",
              "    <tr>\n",
              "      <th>4</th>\n",
              "      <td>0</td>\n",
              "      <td>75</td>\n",
              "      <td>0</td>\n",
              "      <td>0</td>\n",
              "      <td>0.00</td>\n",
              "      <td>3</td>\n",
              "      <td>166.7</td>\n",
              "      <td>113</td>\n",
              "      <td>41.0</td>\n",
              "      <td>7.42</td>\n",
              "      <td>10.1</td>\n",
              "    </tr>\n",
              "    <tr>\n",
              "      <th>...</th>\n",
              "      <td>...</td>\n",
              "      <td>...</td>\n",
              "      <td>...</td>\n",
              "      <td>...</td>\n",
              "      <td>...</td>\n",
              "      <td>...</td>\n",
              "      <td>...</td>\n",
              "      <td>...</td>\n",
              "      <td>...</td>\n",
              "      <td>...</td>\n",
              "      <td>...</td>\n",
              "    </tr>\n",
              "    <tr>\n",
              "      <th>3325</th>\n",
              "      <td>0</td>\n",
              "      <td>192</td>\n",
              "      <td>1</td>\n",
              "      <td>1</td>\n",
              "      <td>2.67</td>\n",
              "      <td>2</td>\n",
              "      <td>156.2</td>\n",
              "      <td>77</td>\n",
              "      <td>71.7</td>\n",
              "      <td>10.78</td>\n",
              "      <td>9.9</td>\n",
              "    </tr>\n",
              "    <tr>\n",
              "      <th>3326</th>\n",
              "      <td>0</td>\n",
              "      <td>68</td>\n",
              "      <td>1</td>\n",
              "      <td>0</td>\n",
              "      <td>0.34</td>\n",
              "      <td>3</td>\n",
              "      <td>231.1</td>\n",
              "      <td>57</td>\n",
              "      <td>56.4</td>\n",
              "      <td>7.67</td>\n",
              "      <td>9.6</td>\n",
              "    </tr>\n",
              "    <tr>\n",
              "      <th>3327</th>\n",
              "      <td>0</td>\n",
              "      <td>28</td>\n",
              "      <td>1</td>\n",
              "      <td>0</td>\n",
              "      <td>0.00</td>\n",
              "      <td>2</td>\n",
              "      <td>180.8</td>\n",
              "      <td>109</td>\n",
              "      <td>56.0</td>\n",
              "      <td>14.44</td>\n",
              "      <td>14.1</td>\n",
              "    </tr>\n",
              "    <tr>\n",
              "      <th>3328</th>\n",
              "      <td>0</td>\n",
              "      <td>184</td>\n",
              "      <td>0</td>\n",
              "      <td>0</td>\n",
              "      <td>0.00</td>\n",
              "      <td>2</td>\n",
              "      <td>213.8</td>\n",
              "      <td>105</td>\n",
              "      <td>50.0</td>\n",
              "      <td>7.98</td>\n",
              "      <td>5.0</td>\n",
              "    </tr>\n",
              "    <tr>\n",
              "      <th>3329</th>\n",
              "      <td>0</td>\n",
              "      <td>74</td>\n",
              "      <td>1</td>\n",
              "      <td>1</td>\n",
              "      <td>3.70</td>\n",
              "      <td>0</td>\n",
              "      <td>234.4</td>\n",
              "      <td>113</td>\n",
              "      <td>100.0</td>\n",
              "      <td>13.30</td>\n",
              "      <td>13.7</td>\n",
              "    </tr>\n",
              "  </tbody>\n",
              "</table>\n",
              "<p>3330 rows × 11 columns</p>\n",
              "</div>\n",
              "      <button class=\"colab-df-convert\" onclick=\"convertToInteractive('df-32e603cf-a9f2-4b29-9c25-6ffb5fa9cc1a')\"\n",
              "              title=\"Convert this dataframe to an interactive table.\"\n",
              "              style=\"display:none;\">\n",
              "        \n",
              "  <svg xmlns=\"http://www.w3.org/2000/svg\" height=\"24px\"viewBox=\"0 0 24 24\"\n",
              "       width=\"24px\">\n",
              "    <path d=\"M0 0h24v24H0V0z\" fill=\"none\"/>\n",
              "    <path d=\"M18.56 5.44l.94 2.06.94-2.06 2.06-.94-2.06-.94-.94-2.06-.94 2.06-2.06.94zm-11 1L8.5 8.5l.94-2.06 2.06-.94-2.06-.94L8.5 2.5l-.94 2.06-2.06.94zm10 10l.94 2.06.94-2.06 2.06-.94-2.06-.94-.94-2.06-.94 2.06-2.06.94z\"/><path d=\"M17.41 7.96l-1.37-1.37c-.4-.4-.92-.59-1.43-.59-.52 0-1.04.2-1.43.59L10.3 9.45l-7.72 7.72c-.78.78-.78 2.05 0 2.83L4 21.41c.39.39.9.59 1.41.59.51 0 1.02-.2 1.41-.59l7.78-7.78 2.81-2.81c.8-.78.8-2.07 0-2.86zM5.41 20L4 18.59l7.72-7.72 1.47 1.35L5.41 20z\"/>\n",
              "  </svg>\n",
              "      </button>\n",
              "      \n",
              "  <style>\n",
              "    .colab-df-container {\n",
              "      display:flex;\n",
              "      flex-wrap:wrap;\n",
              "      gap: 12px;\n",
              "    }\n",
              "\n",
              "    .colab-df-convert {\n",
              "      background-color: #E8F0FE;\n",
              "      border: none;\n",
              "      border-radius: 50%;\n",
              "      cursor: pointer;\n",
              "      display: none;\n",
              "      fill: #1967D2;\n",
              "      height: 32px;\n",
              "      padding: 0 0 0 0;\n",
              "      width: 32px;\n",
              "    }\n",
              "\n",
              "    .colab-df-convert:hover {\n",
              "      background-color: #E2EBFA;\n",
              "      box-shadow: 0px 1px 2px rgba(60, 64, 67, 0.3), 0px 1px 3px 1px rgba(60, 64, 67, 0.15);\n",
              "      fill: #174EA6;\n",
              "    }\n",
              "\n",
              "    [theme=dark] .colab-df-convert {\n",
              "      background-color: #3B4455;\n",
              "      fill: #D2E3FC;\n",
              "    }\n",
              "\n",
              "    [theme=dark] .colab-df-convert:hover {\n",
              "      background-color: #434B5C;\n",
              "      box-shadow: 0px 1px 3px 1px rgba(0, 0, 0, 0.15);\n",
              "      filter: drop-shadow(0px 1px 2px rgba(0, 0, 0, 0.3));\n",
              "      fill: #FFFFFF;\n",
              "    }\n",
              "  </style>\n",
              "\n",
              "      <script>\n",
              "        const buttonEl =\n",
              "          document.querySelector('#df-32e603cf-a9f2-4b29-9c25-6ffb5fa9cc1a button.colab-df-convert');\n",
              "        buttonEl.style.display =\n",
              "          google.colab.kernel.accessAllowed ? 'block' : 'none';\n",
              "\n",
              "        async function convertToInteractive(key) {\n",
              "          const element = document.querySelector('#df-32e603cf-a9f2-4b29-9c25-6ffb5fa9cc1a');\n",
              "          const dataTable =\n",
              "            await google.colab.kernel.invokeFunction('convertToInteractive',\n",
              "                                                     [key], {});\n",
              "          if (!dataTable) return;\n",
              "\n",
              "          const docLinkHtml = 'Like what you see? Visit the ' +\n",
              "            '<a target=\"_blank\" href=https://colab.research.google.com/notebooks/data_table.ipynb>data table notebook</a>'\n",
              "            + ' to learn more about interactive tables.';\n",
              "          element.innerHTML = '';\n",
              "          dataTable['output_type'] = 'display_data';\n",
              "          await google.colab.output.renderOutput(dataTable, element);\n",
              "          const docLink = document.createElement('div');\n",
              "          docLink.innerHTML = docLinkHtml;\n",
              "          element.appendChild(docLink);\n",
              "        }\n",
              "      </script>\n",
              "    </div>\n",
              "  </div>\n",
              "  "
            ]
          },
          "metadata": {},
          "execution_count": 27
        }
      ],
      "source": [
        "df = df[df['OverageFee'] != 0].reset_index(drop = True)\n",
        "df"
      ],
      "id": "743d8675"
    },
    {
      "cell_type": "code",
      "execution_count": null,
      "metadata": {
        "colab": {
          "base_uri": "https://localhost:8080/",
          "height": 279
        },
        "id": "bwiJNIxFURd5",
        "outputId": "f6efe2a1-de85-4eb1-b063-532168850bcf"
      },
      "outputs": [
        {
          "output_type": "display_data",
          "data": {
            "text/plain": [
              "<Figure size 432x288 with 2 Axes>"
            ],
            "image/png": "[encoded data removed]"
          },
          "metadata": {
            "needs_background": "light"
          }
        }
      ],
      "source": [
        "vis_univar(df, 'OverageFee')"
      ],
      "id": "bwiJNIxFURd5"
    },
    {
      "cell_type": "code",
      "source": [
        "sns.catplot(x=\"ContractRenewal\", y=\"CustServCalls\", hue=\"Churn\", kind=\"bar\", data=df)"
      ],
      "metadata": {
        "colab": {
          "base_uri": "https://localhost:8080/",
          "height": 386
        },
        "id": "7Xzc9SyuBoYC",
        "outputId": "ca9c54a9-922c-4c8b-f0fb-c05a08598183"
      },
      "id": "7Xzc9SyuBoYC",
      "execution_count": null,
      "outputs": [
        {
          "output_type": "execute_result",
          "data": {
            "text/plain": [
              "<seaborn.axisgrid.FacetGrid at 0x7f5675d7ebd0>"
            ]
          },
          "metadata": {},
          "execution_count": 29
        },
        {
          "output_type": "display_data",
          "data": {
            "text/plain": [
              "<Figure size 402.375x360 with 1 Axes>"
            ],
            "image/png": "[encoded data removed]"
          },
          "metadata": {
            "needs_background": "light"
          }
        }
      ]
    },
    {
      "cell_type": "markdown",
      "source": [
        "Berdasarkan data dapat dilihat bahwa semakin sering pelanggan menghubungi Customer Service maka besar kemungkinan pelanggan untuk churn"
      ],
      "metadata": {
        "id": "o05VphobGU7S"
      },
      "id": "o05VphobGU7S"
    },
    {
      "cell_type": "markdown",
      "metadata": {
        "id": "DuKpY82qfevf"
      },
      "source": [
        "# Korelasi Antar Variabel"
      ],
      "id": "DuKpY82qfevf"
    },
    {
      "cell_type": "code",
      "execution_count": null,
      "metadata": {
        "colab": {
          "base_uri": "https://localhost:8080/",
          "height": 394
        },
        "id": "09ceee7d",
        "outputId": "69e83b95-2ecb-4a7e-ff7d-c52d75d025cb"
      },
      "outputs": [
        {
          "data": {
            "text/html": [
              "\n",
              "  <div id=\"df-c68704f9-91f7-44b6-982a-d983db3ed40b\">\n",
              "    <div class=\"colab-df-container\">\n",
              "      <div>\n",
              "<style scoped>\n",
              "    .dataframe tbody tr th:only-of-type {\n",
              "        vertical-align: middle;\n",
              "    }\n",
              "\n",
              "    .dataframe tbody tr th {\n",
              "        vertical-align: top;\n",
              "    }\n",
              "\n",
              "    .dataframe thead th {\n",
              "        text-align: right;\n",
              "    }\n",
              "</style>\n",
              "<table border=\"1\" class=\"dataframe\">\n",
              "  <thead>\n",
              "    <tr style=\"text-align: right;\">\n",
              "      <th></th>\n",
              "      <th>Churn</th>\n",
              "      <th>AccountWeeks</th>\n",
              "      <th>ContractRenewal</th>\n",
              "      <th>DataPlan</th>\n",
              "      <th>DataUsage</th>\n",
              "      <th>CustServCalls</th>\n",
              "      <th>DayMins</th>\n",
              "      <th>DayCalls</th>\n",
              "      <th>MonthlyCharge</th>\n",
              "      <th>OverageFee</th>\n",
              "      <th>RoamMins</th>\n",
              "    </tr>\n",
              "  </thead>\n",
              "  <tbody>\n",
              "    <tr>\n",
              "      <th>Churn</th>\n",
              "      <td>1.000000</td>\n",
              "      <td>0.015650</td>\n",
              "      <td>-0.260266</td>\n",
              "      <td>-0.101963</td>\n",
              "      <td>-0.101608</td>\n",
              "      <td>0.135571</td>\n",
              "      <td>0.172107</td>\n",
              "      <td>0.027612</td>\n",
              "      <td>0.095740</td>\n",
              "      <td>0.089233</td>\n",
              "      <td>0.061870</td>\n",
              "    </tr>\n",
              "    <tr>\n",
              "      <th>AccountWeeks</th>\n",
              "      <td>0.015650</td>\n",
              "      <td>1.000000</td>\n",
              "      <td>-0.029530</td>\n",
              "      <td>0.008700</td>\n",
              "      <td>0.016752</td>\n",
              "      <td>-0.005929</td>\n",
              "      <td>0.017880</td>\n",
              "      <td>0.032762</td>\n",
              "      <td>0.011696</td>\n",
              "      <td>-0.008040</td>\n",
              "      <td>0.014754</td>\n",
              "    </tr>\n",
              "    <tr>\n",
              "      <th>ContractRenewal</th>\n",
              "      <td>-0.260266</td>\n",
              "      <td>-0.029530</td>\n",
              "      <td>1.000000</td>\n",
              "      <td>-0.005825</td>\n",
              "      <td>-0.010375</td>\n",
              "      <td>0.030261</td>\n",
              "      <td>-0.049375</td>\n",
              "      <td>-0.012873</td>\n",
              "      <td>-0.044220</td>\n",
              "      <td>-0.010111</td>\n",
              "      <td>-0.043679</td>\n",
              "    </tr>\n",
              "    <tr>\n",
              "      <th>DataPlan</th>\n",
              "      <td>-0.101963</td>\n",
              "      <td>0.008700</td>\n",
              "      <td>-0.005825</td>\n",
              "      <td>1.000000</td>\n",
              "      <td>0.841460</td>\n",
              "      <td>-0.022031</td>\n",
              "      <td>0.002473</td>\n",
              "      <td>-0.013025</td>\n",
              "      <td>0.695705</td>\n",
              "      <td>0.022220</td>\n",
              "      <td>-0.004837</td>\n",
              "    </tr>\n",
              "    <tr>\n",
              "      <th>DataUsage</th>\n",
              "      <td>-0.101608</td>\n",
              "      <td>0.016752</td>\n",
              "      <td>-0.010375</td>\n",
              "      <td>0.841460</td>\n",
              "      <td>1.000000</td>\n",
              "      <td>-0.017501</td>\n",
              "      <td>-0.004304</td>\n",
              "      <td>-0.019274</td>\n",
              "      <td>0.646936</td>\n",
              "      <td>0.010829</td>\n",
              "      <td>0.076794</td>\n",
              "    </tr>\n",
              "    <tr>\n",
              "      <th>CustServCalls</th>\n",
              "      <td>0.135571</td>\n",
              "      <td>-0.005929</td>\n",
              "      <td>0.030261</td>\n",
              "      <td>-0.022031</td>\n",
              "      <td>-0.017501</td>\n",
              "      <td>1.000000</td>\n",
              "      <td>-0.014343</td>\n",
              "      <td>-0.020179</td>\n",
              "      <td>-0.025008</td>\n",
              "      <td>-0.017582</td>\n",
              "      <td>-0.016810</td>\n",
              "    </tr>\n",
              "    <tr>\n",
              "      <th>DayMins</th>\n",
              "      <td>0.172107</td>\n",
              "      <td>0.017880</td>\n",
              "      <td>-0.049375</td>\n",
              "      <td>0.002473</td>\n",
              "      <td>-0.004304</td>\n",
              "      <td>-0.014343</td>\n",
              "      <td>1.000000</td>\n",
              "      <td>0.007275</td>\n",
              "      <td>0.598671</td>\n",
              "      <td>0.006112</td>\n",
              "      <td>-0.017663</td>\n",
              "    </tr>\n",
              "    <tr>\n",
              "      <th>DayCalls</th>\n",
              "      <td>0.027612</td>\n",
              "      <td>0.032762</td>\n",
              "      <td>-0.012873</td>\n",
              "      <td>-0.013025</td>\n",
              "      <td>-0.019274</td>\n",
              "      <td>-0.020179</td>\n",
              "      <td>0.007275</td>\n",
              "      <td>1.000000</td>\n",
              "      <td>-0.010150</td>\n",
              "      <td>-0.013934</td>\n",
              "      <td>0.013430</td>\n",
              "    </tr>\n",
              "    <tr>\n",
              "      <th>MonthlyCharge</th>\n",
              "      <td>0.095740</td>\n",
              "      <td>0.011696</td>\n",
              "      <td>-0.044220</td>\n",
              "      <td>0.695705</td>\n",
              "      <td>0.646936</td>\n",
              "      <td>-0.025008</td>\n",
              "      <td>0.598671</td>\n",
              "      <td>-0.010150</td>\n",
              "      <td>1.000000</td>\n",
              "      <td>0.288312</td>\n",
              "      <td>0.054627</td>\n",
              "    </tr>\n",
              "    <tr>\n",
              "      <th>OverageFee</th>\n",
              "      <td>0.089233</td>\n",
              "      <td>-0.008040</td>\n",
              "      <td>-0.010111</td>\n",
              "      <td>0.022220</td>\n",
              "      <td>0.010829</td>\n",
              "      <td>-0.017582</td>\n",
              "      <td>0.006112</td>\n",
              "      <td>-0.013934</td>\n",
              "      <td>0.288312</td>\n",
              "      <td>1.000000</td>\n",
              "      <td>-0.003356</td>\n",
              "    </tr>\n",
              "    <tr>\n",
              "      <th>RoamMins</th>\n",
              "      <td>0.061870</td>\n",
              "      <td>0.014754</td>\n",
              "      <td>-0.043679</td>\n",
              "      <td>-0.004837</td>\n",
              "      <td>0.076794</td>\n",
              "      <td>-0.016810</td>\n",
              "      <td>-0.017663</td>\n",
              "      <td>0.013430</td>\n",
              "      <td>0.054627</td>\n",
              "      <td>-0.003356</td>\n",
              "      <td>1.000000</td>\n",
              "    </tr>\n",
              "  </tbody>\n",
              "</table>\n",
              "</div>\n",
              "      <button class=\"colab-df-convert\" onclick=\"convertToInteractive('df-c68704f9-91f7-44b6-982a-d983db3ed40b')\"\n",
              "              title=\"Convert this dataframe to an interactive table.\"\n",
              "              style=\"display:none;\">\n",
              "        \n",
              "  <svg xmlns=\"http://www.w3.org/2000/svg\" height=\"24px\"viewBox=\"0 0 24 24\"\n",
              "       width=\"24px\">\n",
              "    <path d=\"M0 0h24v24H0V0z\" fill=\"none\"/>\n",
              "    <path d=\"M18.56 5.44l.94 2.06.94-2.06 2.06-.94-2.06-.94-.94-2.06-.94 2.06-2.06.94zm-11 1L8.5 8.5l.94-2.06 2.06-.94-2.06-.94L8.5 2.5l-.94 2.06-2.06.94zm10 10l.94 2.06.94-2.06 2.06-.94-2.06-.94-.94-2.06-.94 2.06-2.06.94z\"/><path d=\"M17.41 7.96l-1.37-1.37c-.4-.4-.92-.59-1.43-.59-.52 0-1.04.2-1.43.59L10.3 9.45l-7.72 7.72c-.78.78-.78 2.05 0 2.83L4 21.41c.39.39.9.59 1.41.59.51 0 1.02-.2 1.41-.59l7.78-7.78 2.81-2.81c.8-.78.8-2.07 0-2.86zM5.41 20L4 18.59l7.72-7.72 1.47 1.35L5.41 20z\"/>\n",
              "  </svg>\n",
              "      </button>\n",
              "      \n",
              "  <style>\n",
              "    .colab-df-container {\n",
              "      display:flex;\n",
              "      flex-wrap:wrap;\n",
              "      gap: 12px;\n",
              "    }\n",
              "\n",
              "    .colab-df-convert {\n",
              "      background-color: #E8F0FE;\n",
              "      border: none;\n",
              "      border-radius: 50%;\n",
              "      cursor: pointer;\n",
              "      display: none;\n",
              "      fill: #1967D2;\n",
              "      height: 32px;\n",
              "      padding: 0 0 0 0;\n",
              "      width: 32px;\n",
              "    }\n",
              "\n",
              "    .colab-df-convert:hover {\n",
              "      background-color: #E2EBFA;\n",
              "      box-shadow: 0px 1px 2px rgba(60, 64, 67, 0.3), 0px 1px 3px 1px rgba(60, 64, 67, 0.15);\n",
              "      fill: #174EA6;\n",
              "    }\n",
              "\n",
              "    [theme=dark] .colab-df-convert {\n",
              "      background-color: #3B4455;\n",
              "      fill: #D2E3FC;\n",
              "    }\n",
              "\n",
              "    [theme=dark] .colab-df-convert:hover {\n",
              "      background-color: #434B5C;\n",
              "      box-shadow: 0px 1px 3px 1px rgba(0, 0, 0, 0.15);\n",
              "      filter: drop-shadow(0px 1px 2px rgba(0, 0, 0, 0.3));\n",
              "      fill: #FFFFFF;\n",
              "    }\n",
              "  </style>\n",
              "\n",
              "      <script>\n",
              "        const buttonEl =\n",
              "          document.querySelector('#df-c68704f9-91f7-44b6-982a-d983db3ed40b button.colab-df-convert');\n",
              "        buttonEl.style.display =\n",
              "          google.colab.kernel.accessAllowed ? 'block' : 'none';\n",
              "\n",
              "        async function convertToInteractive(key) {\n",
              "          const element = document.querySelector('#df-c68704f9-91f7-44b6-982a-d983db3ed40b');\n",
              "          const dataTable =\n",
              "            await google.colab.kernel.invokeFunction('convertToInteractive',\n",
              "                                                     [key], {});\n",
              "          if (!dataTable) return;\n",
              "\n",
              "          const docLinkHtml = 'Like what you see? Visit the ' +\n",
              "            '<a target=\"_blank\" href=https://colab.research.google.com/notebooks/data_table.ipynb>data table notebook</a>'\n",
              "            + ' to learn more about interactive tables.';\n",
              "          element.innerHTML = '';\n",
              "          dataTable['output_type'] = 'display_data';\n",
              "          await google.colab.output.renderOutput(dataTable, element);\n",
              "          const docLink = document.createElement('div');\n",
              "          docLink.innerHTML = docLinkHtml;\n",
              "          element.appendChild(docLink);\n",
              "        }\n",
              "      </script>\n",
              "    </div>\n",
              "  </div>\n",
              "  "
            ],
            "text/plain": [
              "                    Churn  AccountWeeks  ContractRenewal  DataPlan  DataUsage  \\\n",
              "Churn            1.000000      0.015650        -0.260266 -0.101963  -0.101608   \n",
              "AccountWeeks     0.015650      1.000000        -0.029530  0.008700   0.016752   \n",
              "ContractRenewal -0.260266     -0.029530         1.000000 -0.005825  -0.010375   \n",
              "DataPlan        -0.101963      0.008700        -0.005825  1.000000   0.841460   \n",
              "DataUsage       -0.101608      0.016752        -0.010375  0.841460   1.000000   \n",
              "CustServCalls    0.135571     -0.005929         0.030261 -0.022031  -0.017501   \n",
              "DayMins          0.172107      0.017880        -0.049375  0.002473  -0.004304   \n",
              "DayCalls         0.027612      0.032762        -0.012873 -0.013025  -0.019274   \n",
              "MonthlyCharge    0.095740      0.011696        -0.044220  0.695705   0.646936   \n",
              "OverageFee       0.089233     -0.008040        -0.010111  0.022220   0.010829   \n",
              "RoamMins         0.061870      0.014754        -0.043679 -0.004837   0.076794   \n",
              "\n",
              "                 CustServCalls   DayMins  DayCalls  MonthlyCharge  OverageFee  \\\n",
              "Churn                 0.135571  0.172107  0.027612       0.095740    0.089233   \n",
              "AccountWeeks         -0.005929  0.017880  0.032762       0.011696   -0.008040   \n",
              "ContractRenewal       0.030261 -0.049375 -0.012873      -0.044220   -0.010111   \n",
              "DataPlan             -0.022031  0.002473 -0.013025       0.695705    0.022220   \n",
              "DataUsage            -0.017501 -0.004304 -0.019274       0.646936    0.010829   \n",
              "CustServCalls         1.000000 -0.014343 -0.020179      -0.025008   -0.017582   \n",
              "DayMins              -0.014343  1.000000  0.007275       0.598671    0.006112   \n",
              "DayCalls             -0.020179  0.007275  1.000000      -0.010150   -0.013934   \n",
              "MonthlyCharge        -0.025008  0.598671 -0.010150       1.000000    0.288312   \n",
              "OverageFee           -0.017582  0.006112 -0.013934       0.288312    1.000000   \n",
              "RoamMins             -0.016810 -0.017663  0.013430       0.054627   -0.003356   \n",
              "\n",
              "                 RoamMins  \n",
              "Churn            0.061870  \n",
              "AccountWeeks     0.014754  \n",
              "ContractRenewal -0.043679  \n",
              "DataPlan        -0.004837  \n",
              "DataUsage        0.076794  \n",
              "CustServCalls   -0.016810  \n",
              "DayMins         -0.017663  \n",
              "DayCalls         0.013430  \n",
              "MonthlyCharge    0.054627  \n",
              "OverageFee      -0.003356  \n",
              "RoamMins         1.000000  "
            ]
          },
          "execution_count": 29,
          "metadata": {},
          "output_type": "execute_result"
        }
      ],
      "source": [
        "df.corr('spearman')"
      ],
      "id": "09ceee7d"
    },
    {
      "cell_type": "code",
      "execution_count": null,
      "metadata": {
        "colab": {
          "base_uri": "https://localhost:8080/",
          "height": 574
        },
        "id": "2pD9Sp_bBPqD",
        "outputId": "911cd7d4-77f3-48da-f6d2-b9c2385023fb"
      },
      "outputs": [
        {
          "data": {
            "image/png": "[encoded data removed]",
            "text/plain": [
              "<Figure size 720x576 with 2 Axes>"
            ]
          },
          "metadata": {},
          "output_type": "display_data"
        }
      ],
      "source": [
        "plt.figure(figsize = (10, 8))\n",
        "corr = df.corr(method='spearman')\n",
        "mask = np.triu(np.ones_like(corr, dtype=bool))\n",
        "cormat = sns.heatmap(corr, annot=True, cmap='viridis', linewidths=1, fmt=\".2f\")\n",
        "cormat.set_title('Correlation Matrix')\n",
        "plt.show()"
      ],
      "id": "2pD9Sp_bBPqD"
    },
    {
      "cell_type": "markdown",
      "metadata": {
        "id": "7tWIhrUveoWj"
      },
      "source": [
        "Korelasi antar variabel dapat dikatakan kuat apabila bernilai positif dan tinggi mendekati angka 1. Korelasi dengan menggunakan metode spearman dapat dilihat bahwa korelasi yang paling kuat tiap variabel, yaitu:\n",
        "Data Plan dengan Data Usage\n",
        "Data Plan dengan Monthly Charge\n",
        "Data Usage dengan Monthly Charge\n",
        "Day Mins dengan Monthly Charge\n"
      ],
      "id": "7tWIhrUveoWj"
    },
    {
      "cell_type": "code",
      "execution_count": null,
      "metadata": {
        "colab": {
          "base_uri": "https://localhost:8080/",
          "height": 394
        },
        "id": "f92f2099",
        "outputId": "e7832853-6718-411a-8b00-6f960de939f7"
      },
      "outputs": [
        {
          "data": {
            "text/html": [
              "\n",
              "  <div id=\"df-40d1fc8b-451b-4776-a214-de318e401728\">\n",
              "    <div class=\"colab-df-container\">\n",
              "      <div>\n",
              "<style scoped>\n",
              "    .dataframe tbody tr th:only-of-type {\n",
              "        vertical-align: middle;\n",
              "    }\n",
              "\n",
              "    .dataframe tbody tr th {\n",
              "        vertical-align: top;\n",
              "    }\n",
              "\n",
              "    .dataframe thead th {\n",
              "        text-align: right;\n",
              "    }\n",
              "</style>\n",
              "<table border=\"1\" class=\"dataframe\">\n",
              "  <thead>\n",
              "    <tr style=\"text-align: right;\">\n",
              "      <th></th>\n",
              "      <th>Churn</th>\n",
              "      <th>AccountWeeks</th>\n",
              "      <th>ContractRenewal</th>\n",
              "      <th>DataPlan</th>\n",
              "      <th>DataUsage</th>\n",
              "      <th>CustServCalls</th>\n",
              "      <th>DayMins</th>\n",
              "      <th>DayCalls</th>\n",
              "      <th>MonthlyCharge</th>\n",
              "      <th>OverageFee</th>\n",
              "      <th>RoamMins</th>\n",
              "    </tr>\n",
              "  </thead>\n",
              "  <tbody>\n",
              "    <tr>\n",
              "      <th>Churn</th>\n",
              "      <td>1.000000</td>\n",
              "      <td>0.016600</td>\n",
              "      <td>-0.260266</td>\n",
              "      <td>-0.101963</td>\n",
              "      <td>-0.086950</td>\n",
              "      <td>0.207606</td>\n",
              "      <td>0.208102</td>\n",
              "      <td>0.021892</td>\n",
              "      <td>0.073979</td>\n",
              "      <td>0.093214</td>\n",
              "      <td>0.069167</td>\n",
              "    </tr>\n",
              "    <tr>\n",
              "      <th>AccountWeeks</th>\n",
              "      <td>0.016600</td>\n",
              "      <td>1.000000</td>\n",
              "      <td>-0.024718</td>\n",
              "      <td>0.002885</td>\n",
              "      <td>0.014358</td>\n",
              "      <td>-0.003769</td>\n",
              "      <td>0.006175</td>\n",
              "      <td>0.038712</td>\n",
              "      <td>0.012507</td>\n",
              "      <td>-0.006907</td>\n",
              "      <td>0.009506</td>\n",
              "    </tr>\n",
              "    <tr>\n",
              "      <th>ContractRenewal</th>\n",
              "      <td>-0.260266</td>\n",
              "      <td>-0.024718</td>\n",
              "      <td>1.000000</td>\n",
              "      <td>-0.005825</td>\n",
              "      <td>-0.019060</td>\n",
              "      <td>0.024439</td>\n",
              "      <td>-0.048964</td>\n",
              "      <td>-0.002958</td>\n",
              "      <td>-0.046793</td>\n",
              "      <td>-0.018664</td>\n",
              "      <td>-0.045721</td>\n",
              "    </tr>\n",
              "    <tr>\n",
              "      <th>DataPlan</th>\n",
              "      <td>-0.101963</td>\n",
              "      <td>0.002885</td>\n",
              "      <td>-0.005825</td>\n",
              "      <td>1.000000</td>\n",
              "      <td>0.945971</td>\n",
              "      <td>-0.017652</td>\n",
              "      <td>-0.002820</td>\n",
              "      <td>-0.012738</td>\n",
              "      <td>0.737945</td>\n",
              "      <td>0.020660</td>\n",
              "      <td>-0.001646</td>\n",
              "    </tr>\n",
              "    <tr>\n",
              "      <th>DataUsage</th>\n",
              "      <td>-0.086950</td>\n",
              "      <td>0.014358</td>\n",
              "      <td>-0.019060</td>\n",
              "      <td>0.945971</td>\n",
              "      <td>1.000000</td>\n",
              "      <td>-0.021516</td>\n",
              "      <td>0.002249</td>\n",
              "      <td>-0.009290</td>\n",
              "      <td>0.782307</td>\n",
              "      <td>0.018744</td>\n",
              "      <td>0.162581</td>\n",
              "    </tr>\n",
              "    <tr>\n",
              "      <th>CustServCalls</th>\n",
              "      <td>0.207606</td>\n",
              "      <td>-0.003769</td>\n",
              "      <td>0.024439</td>\n",
              "      <td>-0.017652</td>\n",
              "      <td>-0.021516</td>\n",
              "      <td>1.000000</td>\n",
              "      <td>-0.011989</td>\n",
              "      <td>-0.016729</td>\n",
              "      <td>-0.027095</td>\n",
              "      <td>-0.013081</td>\n",
              "      <td>-0.009032</td>\n",
              "    </tr>\n",
              "    <tr>\n",
              "      <th>DayMins</th>\n",
              "      <td>0.208102</td>\n",
              "      <td>0.006175</td>\n",
              "      <td>-0.048964</td>\n",
              "      <td>-0.002820</td>\n",
              "      <td>0.002249</td>\n",
              "      <td>-0.011989</td>\n",
              "      <td>1.000000</td>\n",
              "      <td>-0.003479</td>\n",
              "      <td>0.566412</td>\n",
              "      <td>0.006735</td>\n",
              "      <td>-0.012591</td>\n",
              "    </tr>\n",
              "    <tr>\n",
              "      <th>DayCalls</th>\n",
              "      <td>0.021892</td>\n",
              "      <td>0.038712</td>\n",
              "      <td>-0.002958</td>\n",
              "      <td>-0.012738</td>\n",
              "      <td>-0.009290</td>\n",
              "      <td>-0.016729</td>\n",
              "      <td>-0.003479</td>\n",
              "      <td>1.000000</td>\n",
              "      <td>-0.014681</td>\n",
              "      <td>-0.021172</td>\n",
              "      <td>0.017950</td>\n",
              "    </tr>\n",
              "    <tr>\n",
              "      <th>MonthlyCharge</th>\n",
              "      <td>0.073979</td>\n",
              "      <td>0.012507</td>\n",
              "      <td>-0.046793</td>\n",
              "      <td>0.737945</td>\n",
              "      <td>0.782307</td>\n",
              "      <td>-0.027095</td>\n",
              "      <td>0.566412</td>\n",
              "      <td>-0.014681</td>\n",
              "      <td>1.000000</td>\n",
              "      <td>0.280788</td>\n",
              "      <td>0.116246</td>\n",
              "    </tr>\n",
              "    <tr>\n",
              "      <th>OverageFee</th>\n",
              "      <td>0.093214</td>\n",
              "      <td>-0.006907</td>\n",
              "      <td>-0.018664</td>\n",
              "      <td>0.020660</td>\n",
              "      <td>0.018744</td>\n",
              "      <td>-0.013081</td>\n",
              "      <td>0.006735</td>\n",
              "      <td>-0.021172</td>\n",
              "      <td>0.280788</td>\n",
              "      <td>1.000000</td>\n",
              "      <td>-0.010748</td>\n",
              "    </tr>\n",
              "    <tr>\n",
              "      <th>RoamMins</th>\n",
              "      <td>0.069167</td>\n",
              "      <td>0.009506</td>\n",
              "      <td>-0.045721</td>\n",
              "      <td>-0.001646</td>\n",
              "      <td>0.162581</td>\n",
              "      <td>-0.009032</td>\n",
              "      <td>-0.012591</td>\n",
              "      <td>0.017950</td>\n",
              "      <td>0.116246</td>\n",
              "      <td>-0.010748</td>\n",
              "      <td>1.000000</td>\n",
              "    </tr>\n",
              "  </tbody>\n",
              "</table>\n",
              "</div>\n",
              "      <button class=\"colab-df-convert\" onclick=\"convertToInteractive('df-40d1fc8b-451b-4776-a214-de318e401728')\"\n",
              "              title=\"Convert this dataframe to an interactive table.\"\n",
              "              style=\"display:none;\">\n",
              "        \n",
              "  <svg xmlns=\"http://www.w3.org/2000/svg\" height=\"24px\"viewBox=\"0 0 24 24\"\n",
              "       width=\"24px\">\n",
              "    <path d=\"M0 0h24v24H0V0z\" fill=\"none\"/>\n",
              "    <path d=\"M18.56 5.44l.94 2.06.94-2.06 2.06-.94-2.06-.94-.94-2.06-.94 2.06-2.06.94zm-11 1L8.5 8.5l.94-2.06 2.06-.94-2.06-.94L8.5 2.5l-.94 2.06-2.06.94zm10 10l.94 2.06.94-2.06 2.06-.94-2.06-.94-.94-2.06-.94 2.06-2.06.94z\"/><path d=\"M17.41 7.96l-1.37-1.37c-.4-.4-.92-.59-1.43-.59-.52 0-1.04.2-1.43.59L10.3 9.45l-7.72 7.72c-.78.78-.78 2.05 0 2.83L4 21.41c.39.39.9.59 1.41.59.51 0 1.02-.2 1.41-.59l7.78-7.78 2.81-2.81c.8-.78.8-2.07 0-2.86zM5.41 20L4 18.59l7.72-7.72 1.47 1.35L5.41 20z\"/>\n",
              "  </svg>\n",
              "      </button>\n",
              "      \n",
              "  <style>\n",
              "    .colab-df-container {\n",
              "      display:flex;\n",
              "      flex-wrap:wrap;\n",
              "      gap: 12px;\n",
              "    }\n",
              "\n",
              "    .colab-df-convert {\n",
              "      background-color: #E8F0FE;\n",
              "      border: none;\n",
              "      border-radius: 50%;\n",
              "      cursor: pointer;\n",
              "      display: none;\n",
              "      fill: #1967D2;\n",
              "      height: 32px;\n",
              "      padding: 0 0 0 0;\n",
              "      width: 32px;\n",
              "    }\n",
              "\n",
              "    .colab-df-convert:hover {\n",
              "      background-color: #E2EBFA;\n",
              "      box-shadow: 0px 1px 2px rgba(60, 64, 67, 0.3), 0px 1px 3px 1px rgba(60, 64, 67, 0.15);\n",
              "      fill: #174EA6;\n",
              "    }\n",
              "\n",
              "    [theme=dark] .colab-df-convert {\n",
              "      background-color: #3B4455;\n",
              "      fill: #D2E3FC;\n",
              "    }\n",
              "\n",
              "    [theme=dark] .colab-df-convert:hover {\n",
              "      background-color: #434B5C;\n",
              "      box-shadow: 0px 1px 3px 1px rgba(0, 0, 0, 0.15);\n",
              "      filter: drop-shadow(0px 1px 2px rgba(0, 0, 0, 0.3));\n",
              "      fill: #FFFFFF;\n",
              "    }\n",
              "  </style>\n",
              "\n",
              "      <script>\n",
              "        const buttonEl =\n",
              "          document.querySelector('#df-40d1fc8b-451b-4776-a214-de318e401728 button.colab-df-convert');\n",
              "        buttonEl.style.display =\n",
              "          google.colab.kernel.accessAllowed ? 'block' : 'none';\n",
              "\n",
              "        async function convertToInteractive(key) {\n",
              "          const element = document.querySelector('#df-40d1fc8b-451b-4776-a214-de318e401728');\n",
              "          const dataTable =\n",
              "            await google.colab.kernel.invokeFunction('convertToInteractive',\n",
              "                                                     [key], {});\n",
              "          if (!dataTable) return;\n",
              "\n",
              "          const docLinkHtml = 'Like what you see? Visit the ' +\n",
              "            '<a target=\"_blank\" href=https://colab.research.google.com/notebooks/data_table.ipynb>data table notebook</a>'\n",
              "            + ' to learn more about interactive tables.';\n",
              "          element.innerHTML = '';\n",
              "          dataTable['output_type'] = 'display_data';\n",
              "          await google.colab.output.renderOutput(dataTable, element);\n",
              "          const docLink = document.createElement('div');\n",
              "          docLink.innerHTML = docLinkHtml;\n",
              "          element.appendChild(docLink);\n",
              "        }\n",
              "      </script>\n",
              "    </div>\n",
              "  </div>\n",
              "  "
            ],
            "text/plain": [
              "                    Churn  AccountWeeks  ContractRenewal  DataPlan  DataUsage  \\\n",
              "Churn            1.000000      0.016600        -0.260266 -0.101963  -0.086950   \n",
              "AccountWeeks     0.016600      1.000000        -0.024718  0.002885   0.014358   \n",
              "ContractRenewal -0.260266     -0.024718         1.000000 -0.005825  -0.019060   \n",
              "DataPlan        -0.101963      0.002885        -0.005825  1.000000   0.945971   \n",
              "DataUsage       -0.086950      0.014358        -0.019060  0.945971   1.000000   \n",
              "CustServCalls    0.207606     -0.003769         0.024439 -0.017652  -0.021516   \n",
              "DayMins          0.208102      0.006175        -0.048964 -0.002820   0.002249   \n",
              "DayCalls         0.021892      0.038712        -0.002958 -0.012738  -0.009290   \n",
              "MonthlyCharge    0.073979      0.012507        -0.046793  0.737945   0.782307   \n",
              "OverageFee       0.093214     -0.006907        -0.018664  0.020660   0.018744   \n",
              "RoamMins         0.069167      0.009506        -0.045721 -0.001646   0.162581   \n",
              "\n",
              "                 CustServCalls   DayMins  DayCalls  MonthlyCharge  OverageFee  \\\n",
              "Churn                 0.207606  0.208102  0.021892       0.073979    0.093214   \n",
              "AccountWeeks         -0.003769  0.006175  0.038712       0.012507   -0.006907   \n",
              "ContractRenewal       0.024439 -0.048964 -0.002958      -0.046793   -0.018664   \n",
              "DataPlan             -0.017652 -0.002820 -0.012738       0.737945    0.020660   \n",
              "DataUsage            -0.021516  0.002249 -0.009290       0.782307    0.018744   \n",
              "CustServCalls         1.000000 -0.011989 -0.016729      -0.027095   -0.013081   \n",
              "DayMins              -0.011989  1.000000 -0.003479       0.566412    0.006735   \n",
              "DayCalls             -0.016729 -0.003479  1.000000      -0.014681   -0.021172   \n",
              "MonthlyCharge        -0.027095  0.566412 -0.014681       1.000000    0.280788   \n",
              "OverageFee           -0.013081  0.006735 -0.021172       0.280788    1.000000   \n",
              "RoamMins             -0.009032 -0.012591  0.017950       0.116246   -0.010748   \n",
              "\n",
              "                 RoamMins  \n",
              "Churn            0.069167  \n",
              "AccountWeeks     0.009506  \n",
              "ContractRenewal -0.045721  \n",
              "DataPlan        -0.001646  \n",
              "DataUsage        0.162581  \n",
              "CustServCalls   -0.009032  \n",
              "DayMins         -0.012591  \n",
              "DayCalls         0.017950  \n",
              "MonthlyCharge    0.116246  \n",
              "OverageFee      -0.010748  \n",
              "RoamMins         1.000000  "
            ]
          },
          "execution_count": 31,
          "metadata": {},
          "output_type": "execute_result"
        }
      ],
      "source": [
        "df.corr('pearson')"
      ],
      "id": "f92f2099"
    },
    {
      "cell_type": "code",
      "execution_count": null,
      "metadata": {
        "colab": {
          "base_uri": "https://localhost:8080/",
          "height": 574
        },
        "id": "aMKN9qAVDuLo",
        "outputId": "157d018f-3570-4465-fb7d-ab32cf130514"
      },
      "outputs": [
        {
          "data": {
            "image/png": "[encoded data removed]",
            "text/plain": [
              "<Figure size 720x576 with 2 Axes>"
            ]
          },
          "metadata": {},
          "output_type": "display_data"
        }
      ],
      "source": [
        "plt.figure(figsize = (10, 8))\n",
        "corr = df.corr(method='pearson')\n",
        "mask = np.triu(np.ones_like(corr, dtype=bool))\n",
        "cormat = sns.heatmap(corr, annot=True, cmap='viridis', linewidths=1, fmt=\".2f\")\n",
        "cormat.set_title('Correlation Matrix')\n",
        "plt.show()"
      ],
      "id": "aMKN9qAVDuLo"
    },
    {
      "cell_type": "markdown",
      "metadata": {
        "id": "RmpALLxi3l9C"
      },
      "source": [
        "Korelasi antar variabel dapat dikatakan kuat apabila bernilai positif dan tinggi mendekati angka 1. Korelasi dengan menggunakan metode Pearson dapat dilihat bahwa korelasi yang paling kuat tiap variabel, yaitu:\n",
        "Data Plan dengan Data Usage\n",
        "Data Usage dengan Monthly Charge\n",
        "Data Plan dengan Monthly Charge\n",
        "Day Mins dengan Monthly Charge\n"
      ],
      "id": "RmpALLxi3l9C"
    },
    {
      "cell_type": "markdown",
      "metadata": {
        "id": "b-gne1yg8Fgy"
      },
      "source": [
        "# Modelling"
      ],
      "id": "b-gne1yg8Fgy"
    },
    {
      "cell_type": "code",
      "execution_count": null,
      "metadata": {
        "id": "alhhD-hK6wBk"
      },
      "outputs": [],
      "source": [
        "#Membentuk variabel x dan y\n",
        "x =  df.drop(['Churn'], axis=1)\n",
        "y = df['Churn']"
      ],
      "id": "alhhD-hK6wBk"
    },
    {
      "cell_type": "code",
      "execution_count": null,
      "metadata": {
        "id": "_Q0hSpr67M0T"
      },
      "outputs": [],
      "source": [
        "from sklearn.model_selection import train_test_split\n",
        "\n",
        "#Pembagian 80% untuk data train dan 20% untuk data test\n",
        "x_train, x_test, y_train, y_test = train_test_split(x, y, test_size = 0.2, random_state = 0)"
      ],
      "id": "_Q0hSpr67M0T"
    },
    {
      "cell_type": "markdown",
      "metadata": {
        "id": "W7sKGkv9F29F"
      },
      "source": [
        "## Decision Tree"
      ],
      "id": "W7sKGkv9F29F"
    },
    {
      "cell_type": "code",
      "execution_count": null,
      "metadata": {
        "id": "Z7OQVShOG3Tt"
      },
      "outputs": [],
      "source": [
        "from sklearn import tree\n",
        "import pydotplus\n",
        "import matplotlib.pyplot as plt\n",
        "import matplotlib.image as pltimg\n",
        "\n",
        "dtree = tree.DecisionTreeClassifier()\n",
        "dtree = dtree.fit(x_train, y_train)\n",
        "dtree_pred = dtree.predict(x_test)"
      ],
      "id": "Z7OQVShOG3Tt"
    },
    {
      "cell_type": "code",
      "execution_count": null,
      "metadata": {
        "colab": {
          "base_uri": "https://localhost:8080/"
        },
        "id": "JRv5OMAeIZuB",
        "outputId": "92585b0d-857e-4206-8108-ecf5d5a3d754"
      },
      "outputs": [
        {
          "name": "stdout",
          "output_type": "stream",
          "text": [
            "|--- feature_5 <= 264.45\n",
            "|   |--- feature_4 <= 3.50\n",
            "|   |   |--- feature_1 <= 0.50\n",
            "|   |   |   |--- feature_9 <= 13.10\n",
            "|   |   |   |   |--- feature_8 <= 11.56\n",
            "|   |   |   |   |   |--- feature_6 <= 48.00\n",
            "|   |   |   |   |   |   |--- class: 1\n",
            "|   |   |   |   |   |--- feature_6 >  48.00\n",
            "|   |   |   |   |   |   |--- feature_8 <= 9.52\n",
            "|   |   |   |   |   |   |   |--- feature_8 <= 9.03\n",
            "|   |   |   |   |   |   |   |   |--- feature_0 <= 172.00\n",
            "|   |   |   |   |   |   |   |   |   |--- feature_6 <= 70.50\n",
            "|   |   |   |   |   |   |   |   |   |   |--- feature_8 <= 7.54\n",
            "|   |   |   |   |   |   |   |   |   |   |   |--- class: 1\n",
            "|   |   |   |   |   |   |   |   |   |   |--- feature_8 >  7.54\n",
            "|   |   |   |   |   |   |   |   |   |   |   |--- class: 0\n",
            "|   |   |   |   |   |   |   |   |   |--- feature_6 >  70.50\n",
            "|   |   |   |   |   |   |   |   |   |   |--- feature_8 <= 7.83\n",
            "|   |   |   |   |   |   |   |   |   |   |   |--- truncated branch of depth 3\n",
            "|   |   |   |   |   |   |   |   |   |   |--- feature_8 >  7.83\n",
            "|   |   |   |   |   |   |   |   |   |   |   |--- truncated branch of depth 7\n",
            "|   |   |   |   |   |   |   |   |--- feature_0 >  172.00\n",
            "|   |   |   |   |   |   |   |   |   |--- feature_6 <= 116.00\n",
            "|   |   |   |   |   |   |   |   |   |   |--- feature_7 <= 47.80\n",
            "|   |   |   |   |   |   |   |   |   |   |   |--- class: 1\n",
            "|   |   |   |   |   |   |   |   |   |   |--- feature_7 >  47.80\n",
            "|   |   |   |   |   |   |   |   |   |   |   |--- class: 0\n",
            "|   |   |   |   |   |   |   |   |   |--- feature_6 >  116.00\n",
            "|   |   |   |   |   |   |   |   |   |   |--- class: 1\n",
            "|   |   |   |   |   |   |   |--- feature_8 >  9.03\n",
            "|   |   |   |   |   |   |   |   |--- feature_8 <= 9.28\n",
            "|   |   |   |   |   |   |   |   |   |--- feature_3 <= 1.32\n",
            "|   |   |   |   |   |   |   |   |   |   |--- class: 1\n",
            "|   |   |   |   |   |   |   |   |   |--- feature_3 >  1.32\n",
            "|   |   |   |   |   |   |   |   |   |   |--- class: 0\n",
            "|   |   |   |   |   |   |   |   |--- feature_8 >  9.28\n",
            "|   |   |   |   |   |   |   |   |   |--- feature_6 <= 81.50\n",
            "|   |   |   |   |   |   |   |   |   |   |--- class: 1\n",
            "|   |   |   |   |   |   |   |   |   |--- feature_6 >  81.50\n",
            "|   |   |   |   |   |   |   |   |   |   |--- feature_5 <= 164.35\n",
            "|   |   |   |   |   |   |   |   |   |   |   |--- class: 1\n",
            "|   |   |   |   |   |   |   |   |   |   |--- feature_5 >  164.35\n",
            "|   |   |   |   |   |   |   |   |   |   |   |--- class: 0\n",
            "|   |   |   |   |   |   |--- feature_8 >  9.52\n",
            "|   |   |   |   |   |   |   |--- feature_9 <= 9.80\n",
            "|   |   |   |   |   |   |   |   |--- class: 0\n",
            "|   |   |   |   |   |   |   |--- feature_9 >  9.80\n",
            "|   |   |   |   |   |   |   |   |--- feature_9 <= 11.10\n",
            "|   |   |   |   |   |   |   |   |   |--- feature_6 <= 118.50\n",
            "|   |   |   |   |   |   |   |   |   |   |--- feature_9 <= 10.60\n",
            "|   |   |   |   |   |   |   |   |   |   |   |--- truncated branch of depth 3\n",
            "|   |   |   |   |   |   |   |   |   |   |--- feature_9 >  10.60\n",
            "|   |   |   |   |   |   |   |   |   |   |   |--- class: 1\n",
            "|   |   |   |   |   |   |   |   |   |--- feature_6 >  118.50\n",
            "|   |   |   |   |   |   |   |   |   |   |--- class: 0\n",
            "|   |   |   |   |   |   |   |   |--- feature_9 >  11.10\n",
            "|   |   |   |   |   |   |   |   |   |--- class: 0\n",
            "|   |   |   |   |--- feature_8 >  11.56\n",
            "|   |   |   |   |   |--- feature_7 <= 57.90\n",
            "|   |   |   |   |   |   |--- feature_6 <= 83.50\n",
            "|   |   |   |   |   |   |   |--- class: 0\n",
            "|   |   |   |   |   |   |--- feature_6 >  83.50\n",
            "|   |   |   |   |   |   |   |--- feature_6 <= 107.00\n",
            "|   |   |   |   |   |   |   |   |--- feature_3 <= 0.16\n",
            "|   |   |   |   |   |   |   |   |   |--- feature_4 <= 0.50\n",
            "|   |   |   |   |   |   |   |   |   |   |--- class: 0\n",
            "|   |   |   |   |   |   |   |   |   |--- feature_4 >  0.50\n",
            "|   |   |   |   |   |   |   |   |   |   |--- class: 1\n",
            "|   |   |   |   |   |   |   |   |--- feature_3 >  0.16\n",
            "|   |   |   |   |   |   |   |   |   |--- class: 0\n",
            "|   |   |   |   |   |   |   |--- feature_6 >  107.00\n",
            "|   |   |   |   |   |   |   |   |--- feature_0 <= 92.50\n",
            "|   |   |   |   |   |   |   |   |   |--- feature_7 <= 47.60\n",
            "|   |   |   |   |   |   |   |   |   |   |--- class: 1\n",
            "|   |   |   |   |   |   |   |   |   |--- feature_7 >  47.60\n",
            "|   |   |   |   |   |   |   |   |   |   |--- class: 0\n",
            "|   |   |   |   |   |   |   |   |--- feature_0 >  92.50\n",
            "|   |   |   |   |   |   |   |   |   |--- class: 0\n",
            "|   |   |   |   |   |--- feature_7 >  57.90\n",
            "|   |   |   |   |   |   |--- feature_0 <= 162.50\n",
            "|   |   |   |   |   |   |   |--- feature_2 <= 0.50\n",
            "|   |   |   |   |   |   |   |   |--- class: 1\n",
            "|   |   |   |   |   |   |   |--- feature_2 >  0.50\n",
            "|   |   |   |   |   |   |   |   |--- feature_6 <= 112.00\n",
            "|   |   |   |   |   |   |   |   |   |--- feature_3 <= 3.11\n",
            "|   |   |   |   |   |   |   |   |   |   |--- class: 0\n",
            "|   |   |   |   |   |   |   |   |   |--- feature_3 >  3.11\n",
            "|   |   |   |   |   |   |   |   |   |   |--- class: 1\n",
            "|   |   |   |   |   |   |   |   |--- feature_6 >  112.00\n",
            "|   |   |   |   |   |   |   |   |   |--- class: 1\n",
            "|   |   |   |   |   |   |--- feature_0 >  162.50\n",
            "|   |   |   |   |   |   |   |--- class: 0\n",
            "|   |   |   |--- feature_9 >  13.10\n",
            "|   |   |   |   |--- class: 1\n",
            "|   |   |--- feature_1 >  0.50\n",
            "|   |   |   |--- feature_5 <= 223.25\n",
            "|   |   |   |   |--- feature_8 <= 16.47\n",
            "|   |   |   |   |   |--- feature_5 <= 210.55\n",
            "|   |   |   |   |   |   |--- feature_7 <= 86.05\n",
            "|   |   |   |   |   |   |   |--- feature_7 <= 38.20\n",
            "|   |   |   |   |   |   |   |   |--- feature_0 <= 25.50\n",
            "|   |   |   |   |   |   |   |   |   |--- feature_6 <= 76.00\n",
            "|   |   |   |   |   |   |   |   |   |   |--- feature_9 <= 9.95\n",
            "|   |   |   |   |   |   |   |   |   |   |   |--- class: 1\n",
            "|   |   |   |   |   |   |   |   |   |   |--- feature_9 >  9.95\n",
            "|   |   |   |   |   |   |   |   |   |   |   |--- class: 0\n",
            "|   |   |   |   |   |   |   |   |   |--- feature_6 >  76.00\n",
            "|   |   |   |   |   |   |   |   |   |   |--- class: 0\n",
            "|   |   |   |   |   |   |   |   |--- feature_0 >  25.50\n",
            "|   |   |   |   |   |   |   |   |   |--- feature_7 <= 36.95\n",
            "|   |   |   |   |   |   |   |   |   |   |--- feature_0 <= 188.00\n",
            "|   |   |   |   |   |   |   |   |   |   |   |--- truncated branch of depth 5\n",
            "|   |   |   |   |   |   |   |   |   |   |--- feature_0 >  188.00\n",
            "|   |   |   |   |   |   |   |   |   |   |   |--- truncated branch of depth 2\n",
            "|   |   |   |   |   |   |   |   |   |--- feature_7 >  36.95\n",
            "|   |   |   |   |   |   |   |   |   |   |--- feature_9 <= 15.45\n",
            "|   |   |   |   |   |   |   |   |   |   |   |--- truncated branch of depth 7\n",
            "|   |   |   |   |   |   |   |   |   |   |--- feature_9 >  15.45\n",
            "|   |   |   |   |   |   |   |   |   |   |   |--- class: 1\n",
            "|   |   |   |   |   |   |   |--- feature_7 >  38.20\n",
            "|   |   |   |   |   |   |   |   |--- feature_6 <= 124.50\n",
            "|   |   |   |   |   |   |   |   |   |--- feature_0 <= 91.50\n",
            "|   |   |   |   |   |   |   |   |   |   |--- feature_0 <= 73.50\n",
            "|   |   |   |   |   |   |   |   |   |   |   |--- class: 0\n",
            "|   |   |   |   |   |   |   |   |   |   |--- feature_0 >  73.50\n",
            "|   |   |   |   |   |   |   |   |   |   |   |--- truncated branch of depth 5\n",
            "|   |   |   |   |   |   |   |   |   |--- feature_0 >  91.50\n",
            "|   |   |   |   |   |   |   |   |   |   |--- feature_8 <= 13.09\n",
            "|   |   |   |   |   |   |   |   |   |   |   |--- truncated branch of depth 12\n",
            "|   |   |   |   |   |   |   |   |   |   |--- feature_8 >  13.09\n",
            "|   |   |   |   |   |   |   |   |   |   |   |--- truncated branch of depth 7\n",
            "|   |   |   |   |   |   |   |   |--- feature_6 >  124.50\n",
            "|   |   |   |   |   |   |   |   |   |--- feature_0 <= 146.50\n",
            "|   |   |   |   |   |   |   |   |   |   |--- feature_8 <= 10.45\n",
            "|   |   |   |   |   |   |   |   |   |   |   |--- truncated branch of depth 5\n",
            "|   |   |   |   |   |   |   |   |   |   |--- feature_8 >  10.45\n",
            "|   |   |   |   |   |   |   |   |   |   |   |--- class: 0\n",
            "|   |   |   |   |   |   |   |   |   |--- feature_0 >  146.50\n",
            "|   |   |   |   |   |   |   |   |   |   |--- feature_0 <= 147.50\n",
            "|   |   |   |   |   |   |   |   |   |   |   |--- class: 1\n",
            "|   |   |   |   |   |   |   |   |   |   |--- feature_0 >  147.50\n",
            "|   |   |   |   |   |   |   |   |   |   |   |--- truncated branch of depth 3\n",
            "|   |   |   |   |   |   |--- feature_7 >  86.05\n",
            "|   |   |   |   |   |   |   |--- feature_5 <= 175.30\n",
            "|   |   |   |   |   |   |   |   |--- feature_8 <= 13.04\n",
            "|   |   |   |   |   |   |   |   |   |--- feature_4 <= 0.50\n",
            "|   |   |   |   |   |   |   |   |   |   |--- class: 0\n",
            "|   |   |   |   |   |   |   |   |   |--- feature_4 >  0.50\n",
            "|   |   |   |   |   |   |   |   |   |   |--- class: 1\n",
            "|   |   |   |   |   |   |   |   |--- feature_8 >  13.04\n",
            "|   |   |   |   |   |   |   |   |   |--- class: 0\n",
            "|   |   |   |   |   |   |   |--- feature_5 >  175.30\n",
            "|   |   |   |   |   |   |   |   |--- feature_5 <= 201.30\n",
            "|   |   |   |   |   |   |   |   |   |--- class: 0\n",
            "|   |   |   |   |   |   |   |   |--- feature_5 >  201.30\n",
            "|   |   |   |   |   |   |   |   |   |--- feature_5 <= 201.60\n",
            "|   |   |   |   |   |   |   |   |   |   |--- class: 1\n",
            "|   |   |   |   |   |   |   |   |   |--- feature_5 >  201.60\n",
            "|   |   |   |   |   |   |   |   |   |   |--- class: 0\n",
            "|   |   |   |   |   |--- feature_5 >  210.55\n",
            "|   |   |   |   |   |   |--- feature_8 <= 13.80\n",
            "|   |   |   |   |   |   |   |--- feature_5 <= 213.95\n",
            "|   |   |   |   |   |   |   |   |--- feature_6 <= 129.00\n",
            "|   |   |   |   |   |   |   |   |   |--- feature_6 <= 66.50\n",
            "|   |   |   |   |   |   |   |   |   |   |--- feature_4 <= 1.50\n",
            "|   |   |   |   |   |   |   |   |   |   |   |--- class: 1\n",
            "|   |   |   |   |   |   |   |   |   |   |--- feature_4 >  1.50\n",
            "|   |   |   |   |   |   |   |   |   |   |   |--- class: 0\n",
            "|   |   |   |   |   |   |   |   |   |--- feature_6 >  66.50\n",
            "|   |   |   |   |   |   |   |   |   |   |--- feature_8 <= 12.22\n",
            "|   |   |   |   |   |   |   |   |   |   |   |--- truncated branch of depth 4\n",
            "|   |   |   |   |   |   |   |   |   |   |--- feature_8 >  12.22\n",
            "|   |   |   |   |   |   |   |   |   |   |   |--- truncated branch of depth 3\n",
            "|   |   |   |   |   |   |   |   |--- feature_6 >  129.00\n",
            "|   |   |   |   |   |   |   |   |   |--- class: 1\n",
            "|   |   |   |   |   |   |   |--- feature_5 >  213.95\n",
            "|   |   |   |   |   |   |   |   |--- feature_8 <= 10.98\n",
            "|   |   |   |   |   |   |   |   |   |--- class: 0\n",
            "|   |   |   |   |   |   |   |   |--- feature_8 >  10.98\n",
            "|   |   |   |   |   |   |   |   |   |--- feature_8 <= 11.03\n",
            "|   |   |   |   |   |   |   |   |   |   |--- class: 1\n",
            "|   |   |   |   |   |   |   |   |   |--- feature_8 >  11.03\n",
            "|   |   |   |   |   |   |   |   |   |   |--- feature_6 <= 122.50\n",
            "|   |   |   |   |   |   |   |   |   |   |   |--- class: 0\n",
            "|   |   |   |   |   |   |   |   |   |   |--- feature_6 >  122.50\n",
            "|   |   |   |   |   |   |   |   |   |   |   |--- truncated branch of depth 2\n",
            "|   |   |   |   |   |   |--- feature_8 >  13.80\n",
            "|   |   |   |   |   |   |   |--- feature_7 <= 66.10\n",
            "|   |   |   |   |   |   |   |   |--- class: 1\n",
            "|   |   |   |   |   |   |   |--- feature_7 >  66.10\n",
            "|   |   |   |   |   |   |   |   |--- class: 0\n",
            "|   |   |   |   |--- feature_8 >  16.47\n",
            "|   |   |   |   |   |--- feature_6 <= 115.00\n",
            "|   |   |   |   |   |   |--- class: 0\n",
            "|   |   |   |   |   |--- feature_6 >  115.00\n",
            "|   |   |   |   |   |   |--- class: 1\n",
            "|   |   |   |--- feature_5 >  223.25\n",
            "|   |   |   |   |--- feature_8 <= 12.99\n",
            "|   |   |   |   |   |--- feature_8 <= 12.03\n",
            "|   |   |   |   |   |   |--- feature_5 <= 223.40\n",
            "|   |   |   |   |   |   |   |--- class: 1\n",
            "|   |   |   |   |   |   |--- feature_5 >  223.40\n",
            "|   |   |   |   |   |   |   |--- feature_5 <= 259.35\n",
            "|   |   |   |   |   |   |   |   |--- feature_0 <= 18.50\n",
            "|   |   |   |   |   |   |   |   |   |--- feature_0 <= 11.00\n",
            "|   |   |   |   |   |   |   |   |   |   |--- class: 0\n",
            "|   |   |   |   |   |   |   |   |   |--- feature_0 >  11.00\n",
            "|   |   |   |   |   |   |   |   |   |   |--- class: 1\n",
            "|   |   |   |   |   |   |   |   |--- feature_0 >  18.50\n",
            "|   |   |   |   |   |   |   |   |   |--- feature_6 <= 109.50\n",
            "|   |   |   |   |   |   |   |   |   |   |--- feature_6 <= 108.50\n",
            "|   |   |   |   |   |   |   |   |   |   |   |--- truncated branch of depth 8\n",
            "|   |   |   |   |   |   |   |   |   |   |--- feature_6 >  108.50\n",
            "|   |   |   |   |   |   |   |   |   |   |   |--- truncated branch of depth 3\n",
            "|   |   |   |   |   |   |   |   |   |--- feature_6 >  109.50\n",
            "|   |   |   |   |   |   |   |   |   |   |--- class: 0\n",
            "|   |   |   |   |   |   |   |--- feature_5 >  259.35\n",
            "|   |   |   |   |   |   |   |   |--- feature_6 <= 138.00\n",
            "|   |   |   |   |   |   |   |   |   |--- feature_5 <= 259.55\n",
            "|   |   |   |   |   |   |   |   |   |   |--- class: 1\n",
            "|   |   |   |   |   |   |   |   |   |--- feature_5 >  259.55\n",
            "|   |   |   |   |   |   |   |   |   |   |--- feature_0 <= 81.00\n",
            "|   |   |   |   |   |   |   |   |   |   |   |--- truncated branch of depth 2\n",
            "|   |   |   |   |   |   |   |   |   |   |--- feature_0 >  81.00\n",
            "|   |   |   |   |   |   |   |   |   |   |   |--- class: 0\n",
            "|   |   |   |   |   |   |   |   |--- feature_6 >  138.00\n",
            "|   |   |   |   |   |   |   |   |   |--- class: 1\n",
            "|   |   |   |   |   |--- feature_8 >  12.03\n",
            "|   |   |   |   |   |   |--- feature_9 <= 13.05\n",
            "|   |   |   |   |   |   |   |--- feature_0 <= 108.00\n",
            "|   |   |   |   |   |   |   |   |--- feature_6 <= 124.50\n",
            "|   |   |   |   |   |   |   |   |   |--- class: 0\n",
            "|   |   |   |   |   |   |   |   |--- feature_6 >  124.50\n",
            "|   |   |   |   |   |   |   |   |   |--- class: 1\n",
            "|   |   |   |   |   |   |   |--- feature_0 >  108.00\n",
            "|   |   |   |   |   |   |   |   |--- feature_8 <= 12.84\n",
            "|   |   |   |   |   |   |   |   |   |--- feature_4 <= 0.50\n",
            "|   |   |   |   |   |   |   |   |   |   |--- feature_9 <= 9.40\n",
            "|   |   |   |   |   |   |   |   |   |   |   |--- class: 0\n",
            "|   |   |   |   |   |   |   |   |   |   |--- feature_9 >  9.40\n",
            "|   |   |   |   |   |   |   |   |   |   |   |--- class: 1\n",
            "|   |   |   |   |   |   |   |   |   |--- feature_4 >  0.50\n",
            "|   |   |   |   |   |   |   |   |   |   |--- class: 1\n",
            "|   |   |   |   |   |   |   |   |--- feature_8 >  12.84\n",
            "|   |   |   |   |   |   |   |   |   |--- class: 0\n",
            "|   |   |   |   |   |   |--- feature_9 >  13.05\n",
            "|   |   |   |   |   |   |   |--- class: 1\n",
            "|   |   |   |   |--- feature_8 >  12.99\n",
            "|   |   |   |   |   |--- feature_3 <= 1.11\n",
            "|   |   |   |   |   |   |--- feature_7 <= 62.50\n",
            "|   |   |   |   |   |   |   |--- feature_9 <= 13.65\n",
            "|   |   |   |   |   |   |   |   |--- class: 0\n",
            "|   |   |   |   |   |   |   |--- feature_9 >  13.65\n",
            "|   |   |   |   |   |   |   |   |--- class: 1\n",
            "|   |   |   |   |   |   |--- feature_7 >  62.50\n",
            "|   |   |   |   |   |   |   |--- feature_8 <= 13.37\n",
            "|   |   |   |   |   |   |   |   |--- feature_4 <= 1.50\n",
            "|   |   |   |   |   |   |   |   |   |--- class: 0\n",
            "|   |   |   |   |   |   |   |   |--- feature_4 >  1.50\n",
            "|   |   |   |   |   |   |   |   |   |--- class: 1\n",
            "|   |   |   |   |   |   |   |--- feature_8 >  13.37\n",
            "|   |   |   |   |   |   |   |   |--- class: 1\n",
            "|   |   |   |   |   |--- feature_3 >  1.11\n",
            "|   |   |   |   |   |   |--- class: 0\n",
            "|   |--- feature_4 >  3.50\n",
            "|   |   |--- feature_7 <= 45.95\n",
            "|   |   |   |--- feature_0 <= 207.00\n",
            "|   |   |   |   |--- feature_0 <= 46.50\n",
            "|   |   |   |   |   |--- feature_4 <= 4.50\n",
            "|   |   |   |   |   |   |--- feature_8 <= 7.10\n",
            "|   |   |   |   |   |   |   |--- class: 1\n",
            "|   |   |   |   |   |   |--- feature_8 >  7.10\n",
            "|   |   |   |   |   |   |   |--- class: 0\n",
            "|   |   |   |   |   |--- feature_4 >  4.50\n",
            "|   |   |   |   |   |   |--- class: 1\n",
            "|   |   |   |   |--- feature_0 >  46.50\n",
            "|   |   |   |   |   |--- feature_5 <= 159.70\n",
            "|   |   |   |   |   |   |--- class: 1\n",
            "|   |   |   |   |   |--- feature_5 >  159.70\n",
            "|   |   |   |   |   |   |--- feature_8 <= 9.53\n",
            "|   |   |   |   |   |   |   |--- class: 1\n",
            "|   |   |   |   |   |   |--- feature_8 >  9.53\n",
            "|   |   |   |   |   |   |   |--- class: 0\n",
            "|   |   |   |--- feature_0 >  207.00\n",
            "|   |   |   |   |--- class: 0\n",
            "|   |   |--- feature_7 >  45.95\n",
            "|   |   |   |--- feature_5 <= 160.20\n",
            "|   |   |   |   |--- feature_8 <= 13.10\n",
            "|   |   |   |   |   |--- feature_5 <= 143.90\n",
            "|   |   |   |   |   |   |--- class: 1\n",
            "|   |   |   |   |   |--- feature_5 >  143.90\n",
            "|   |   |   |   |   |   |--- feature_5 <= 156.90\n",
            "|   |   |   |   |   |   |   |--- feature_0 <= 45.50\n",
            "|   |   |   |   |   |   |   |   |--- class: 1\n",
            "|   |   |   |   |   |   |   |--- feature_0 >  45.50\n",
            "|   |   |   |   |   |   |   |   |--- class: 0\n",
            "|   |   |   |   |   |   |--- feature_5 >  156.90\n",
            "|   |   |   |   |   |   |   |--- class: 1\n",
            "|   |   |   |   |--- feature_8 >  13.10\n",
            "|   |   |   |   |   |--- feature_1 <= 0.50\n",
            "|   |   |   |   |   |   |--- class: 1\n",
            "|   |   |   |   |   |--- feature_1 >  0.50\n",
            "|   |   |   |   |   |   |--- feature_8 <= 15.57\n",
            "|   |   |   |   |   |   |   |--- class: 0\n",
            "|   |   |   |   |   |   |--- feature_8 >  15.57\n",
            "|   |   |   |   |   |   |   |--- class: 1\n",
            "|   |   |   |--- feature_5 >  160.20\n",
            "|   |   |   |   |--- feature_8 <= 6.76\n",
            "|   |   |   |   |   |--- feature_5 <= 236.95\n",
            "|   |   |   |   |   |   |--- class: 1\n",
            "|   |   |   |   |   |--- feature_5 >  236.95\n",
            "|   |   |   |   |   |   |--- class: 0\n",
            "|   |   |   |   |--- feature_8 >  6.76\n",
            "|   |   |   |   |   |--- feature_6 <= 133.50\n",
            "|   |   |   |   |   |   |--- feature_4 <= 8.50\n",
            "|   |   |   |   |   |   |   |--- feature_8 <= 17.49\n",
            "|   |   |   |   |   |   |   |   |--- feature_5 <= 188.15\n",
            "|   |   |   |   |   |   |   |   |   |--- feature_8 <= 10.62\n",
            "|   |   |   |   |   |   |   |   |   |   |--- feature_6 <= 106.50\n",
            "|   |   |   |   |   |   |   |   |   |   |   |--- truncated branch of depth 2\n",
            "|   |   |   |   |   |   |   |   |   |   |--- feature_6 >  106.50\n",
            "|   |   |   |   |   |   |   |   |   |   |   |--- class: 1\n",
            "|   |   |   |   |   |   |   |   |   |--- feature_8 >  10.62\n",
            "|   |   |   |   |   |   |   |   |   |   |--- class: 0\n",
            "|   |   |   |   |   |   |   |   |--- feature_5 >  188.15\n",
            "|   |   |   |   |   |   |   |   |   |--- feature_9 <= 8.25\n",
            "|   |   |   |   |   |   |   |   |   |   |--- feature_1 <= 0.50\n",
            "|   |   |   |   |   |   |   |   |   |   |   |--- class: 1\n",
            "|   |   |   |   |   |   |   |   |   |   |--- feature_1 >  0.50\n",
            "|   |   |   |   |   |   |   |   |   |   |   |--- truncated branch of depth 3\n",
            "|   |   |   |   |   |   |   |   |   |--- feature_9 >  8.25\n",
            "|   |   |   |   |   |   |   |   |   |   |--- class: 0\n",
            "|   |   |   |   |   |   |   |--- feature_8 >  17.49\n",
            "|   |   |   |   |   |   |   |   |--- class: 1\n",
            "|   |   |   |   |   |   |--- feature_4 >  8.50\n",
            "|   |   |   |   |   |   |   |--- class: 1\n",
            "|   |   |   |   |   |--- feature_6 >  133.50\n",
            "|   |   |   |   |   |   |--- class: 1\n",
            "|--- feature_5 >  264.45\n",
            "|   |--- feature_2 <= 0.50\n",
            "|   |   |--- feature_7 <= 62.50\n",
            "|   |   |   |--- feature_0 <= 167.50\n",
            "|   |   |   |   |--- feature_9 <= 17.15\n",
            "|   |   |   |   |   |--- feature_6 <= 91.00\n",
            "|   |   |   |   |   |   |--- feature_0 <= 100.50\n",
            "|   |   |   |   |   |   |   |--- class: 0\n",
            "|   |   |   |   |   |   |--- feature_0 >  100.50\n",
            "|   |   |   |   |   |   |   |--- feature_8 <= 8.29\n",
            "|   |   |   |   |   |   |   |   |--- class: 1\n",
            "|   |   |   |   |   |   |   |--- feature_8 >  8.29\n",
            "|   |   |   |   |   |   |   |   |--- class: 0\n",
            "|   |   |   |   |   |--- feature_6 >  91.00\n",
            "|   |   |   |   |   |   |--- class: 0\n",
            "|   |   |   |   |--- feature_9 >  17.15\n",
            "|   |   |   |   |   |--- class: 1\n",
            "|   |   |   |--- feature_0 >  167.50\n",
            "|   |   |   |   |--- class: 1\n",
            "|   |   |--- feature_7 >  62.50\n",
            "|   |   |   |--- feature_7 <= 64.90\n",
            "|   |   |   |   |--- feature_0 <= 101.50\n",
            "|   |   |   |   |   |--- feature_3 <= 0.34\n",
            "|   |   |   |   |   |   |--- feature_8 <= 7.22\n",
            "|   |   |   |   |   |   |   |--- class: 0\n",
            "|   |   |   |   |   |   |--- feature_8 >  7.22\n",
            "|   |   |   |   |   |   |   |--- class: 1\n",
            "|   |   |   |   |   |--- feature_3 >  0.34\n",
            "|   |   |   |   |   |   |--- class: 0\n",
            "|   |   |   |   |--- feature_0 >  101.50\n",
            "|   |   |   |   |   |--- feature_5 <= 275.60\n",
            "|   |   |   |   |   |   |--- class: 0\n",
            "|   |   |   |   |   |--- feature_5 >  275.60\n",
            "|   |   |   |   |   |   |--- feature_0 <= 113.50\n",
            "|   |   |   |   |   |   |   |--- class: 0\n",
            "|   |   |   |   |   |   |--- feature_0 >  113.50\n",
            "|   |   |   |   |   |   |   |--- class: 1\n",
            "|   |   |   |--- feature_7 >  64.90\n",
            "|   |   |   |   |--- feature_3 <= 0.09\n",
            "|   |   |   |   |   |--- class: 1\n",
            "|   |   |   |   |--- feature_3 >  0.09\n",
            "|   |   |   |   |   |--- feature_3 <= 0.28\n",
            "|   |   |   |   |   |   |--- feature_7 <= 68.60\n",
            "|   |   |   |   |   |   |   |--- class: 0\n",
            "|   |   |   |   |   |   |--- feature_7 >  68.60\n",
            "|   |   |   |   |   |   |   |--- feature_1 <= 0.50\n",
            "|   |   |   |   |   |   |   |   |--- class: 0\n",
            "|   |   |   |   |   |   |   |--- feature_1 >  0.50\n",
            "|   |   |   |   |   |   |   |   |--- class: 1\n",
            "|   |   |   |   |   |--- feature_3 >  0.28\n",
            "|   |   |   |   |   |   |--- class: 1\n",
            "|   |--- feature_2 >  0.50\n",
            "|   |   |--- feature_1 <= 0.50\n",
            "|   |   |   |--- feature_9 <= 8.10\n",
            "|   |   |   |   |--- class: 0\n",
            "|   |   |   |--- feature_9 >  8.10\n",
            "|   |   |   |   |--- class: 1\n",
            "|   |   |--- feature_1 >  0.50\n",
            "|   |   |   |--- feature_5 <= 318.10\n",
            "|   |   |   |   |--- class: 0\n",
            "|   |   |   |--- feature_5 >  318.10\n",
            "|   |   |   |   |--- class: 1\n",
            "\n"
          ]
        }
      ],
      "source": [
        "text_representation = tree.export_text(dtree)\n",
        "print(text_representation)"
      ],
      "id": "JRv5OMAeIZuB"
    },
    {
      "cell_type": "code",
      "execution_count": null,
      "metadata": {
        "colab": {
          "base_uri": "https://localhost:8080/"
        },
        "id": "CnCk63UTYxB2",
        "outputId": "990d43b6-b538-4743-ebc7-166fd3d8dc9d"
      },
      "outputs": [
        {
          "data": {
            "text/plain": [
              "Text(0.5, 1.0, 'Feature Importances')"
            ]
          },
          "execution_count": 37,
          "metadata": {},
          "output_type": "execute_result"
        },
        {
          "data": {
            "image/png": "[encoded data removed]",
            "text/plain": [
              "<Figure size 576x576 with 1 Axes>"
            ]
          },
          "metadata": {},
          "output_type": "display_data"
        }
      ],
      "source": [
        "#Feature Importance\n",
        "tree_feature =  pd.Series(dtree.feature_importances_, x.columns).sort_values(ascending = True)\n",
        "plt.figure(figsize = (8,8))\n",
        "plt.barh(x.columns, tree_feature)\n",
        "plt.xlabel('Mean Impurity Reduction', fontsize = 12)\n",
        "plt.ylabel('Features', fontsize = 12)\n",
        "plt.yticks(fontsize = 12)\n",
        "plt.title('Feature Importances', fontsize = 20)"
      ],
      "id": "CnCk63UTYxB2"
    },
    {
      "cell_type": "markdown",
      "metadata": {
        "id": "yObqQO7Bfx7T"
      },
      "source": [
        "Berdasarkan grafik di atas dapat dilihat urutan data yang menurun dari yang paling mempengaruhi data churn hingga yang tidak mempengaruhi. oleh karena itu, dapat disimpulkan bahwa data RoamMin merupakan data yang paling mempengaruhi data Churn. Selain itu RoamMins juga menjadi faktor utama untuk membedakan customer yang churn dan tidak churn"
      ],
      "id": "yObqQO7Bfx7T"
    },
    {
      "cell_type": "markdown",
      "metadata": {
        "id": "p8Gnm-sRFXoo"
      },
      "source": [
        "## Random Forest"
      ],
      "id": "p8Gnm-sRFXoo"
    },
    {
      "cell_type": "code",
      "execution_count": null,
      "metadata": {
        "colab": {
          "base_uri": "https://localhost:8080/"
        },
        "id": "C8ujVVGnTVzn",
        "outputId": "79a68af6-d4ae-455b-f350-db43004b50d5"
      },
      "outputs": [
        {
          "data": {
            "text/plain": [
              "RandomForestClassifier(max_depth=5, n_jobs=-1, oob_score=True, random_state=42)"
            ]
          },
          "execution_count": 38,
          "metadata": {},
          "output_type": "execute_result"
        }
      ],
      "source": [
        "from sklearn.ensemble import RandomForestClassifier\n",
        "RF = RandomForestClassifier(random_state=42, n_jobs=-1, max_depth=5,\n",
        "                                       n_estimators=100, oob_score=True) \n",
        "RF.fit(x_train, y_train) "
      ],
      "id": "C8ujVVGnTVzn"
    },
    {
      "cell_type": "code",
      "execution_count": null,
      "metadata": {
        "colab": {
          "base_uri": "https://localhost:8080/"
        },
        "id": "v9Wcgr5qTv2u",
        "outputId": "5d13922e-b691-421d-d1a0-ff81555f261f"
      },
      "outputs": [
        {
          "name": "stdout",
          "output_type": "stream",
          "text": [
            "Base Model has RMSE: 0.22594479646818832\n",
            "Base Model has R2-Score: 0.5271466755763448\n"
          ]
        }
      ],
      "source": [
        "from sklearn.metrics import r2_score\n",
        "from sklearn.metrics import mean_squared_error as mse\n",
        "\n",
        "RF_pred = RF.predict(x_test)\n",
        "RF_rmse = np.sqrt(mse(y_test, RF_pred))\n",
        "print('Base Model has RMSE:', RF_rmse)\n",
        "print('Base Model has R2-Score:', r2_score(y_test, RF_pred))"
      ],
      "id": "v9Wcgr5qTv2u"
    },
    {
      "cell_type": "code",
      "execution_count": null,
      "metadata": {
        "id": "20247529-051e-4766-aa42-2c883c38e85a"
      },
      "outputs": [],
      "source": [
        "## Hyperparameter Tuning"
      ],
      "id": "20247529-051e-4766-aa42-2c883c38e85a"
    },
    {
      "cell_type": "code",
      "execution_count": null,
      "metadata": {
        "colab": {
          "base_uri": "https://localhost:8080/"
        },
        "id": "sTXPPL1qHy0F",
        "outputId": "bfe086b4-0706-4130-c8db-2c80f2ca476b"
      },
      "outputs": [
        {
          "name": "stdout",
          "output_type": "stream",
          "text": [
            "{'n_estimators': [200, 400, 600, 800, 1000, 1200, 1400, 1600, 1800, 2000], 'max_features': ['auto', 'sqrt'], 'max_depth': [10, 20, 30, 40, 50, 60, 70, 80, 90, 100, 110, None], 'min_samples_split': [2, 5, 10], 'min_samples_leaf': [1, 2, 4]}\n"
          ]
        }
      ],
      "source": [
        "from sklearn.model_selection import RandomizedSearchCV\n",
        "\n",
        "# Number of trees in random forest\n",
        "n_estimators = [int(x) for x in np.linspace(start = 200, stop = 2000, num = 10)]\n",
        "# Number of features to consider at every split\n",
        "max_features = ['auto', 'sqrt']\n",
        "# Maximum number of levels in tree\n",
        "max_depth = [int(x) for x in np.linspace(10, 110, num = 11)]\n",
        "max_depth.append(None)\n",
        "# Minimum number of samples required to split a node\n",
        "min_samples_split = [2, 5, 10]\n",
        "# Minimum number of samples required at each leaf node\n",
        "min_samples_leaf = [1, 2, 4]\n",
        "\n",
        "# Create the random grid\n",
        "random_params = {'n_estimators': n_estimators,\n",
        "               'max_features': max_features,\n",
        "               'max_depth': max_depth,\n",
        "               'min_samples_split': min_samples_split,\n",
        "               'min_samples_leaf': min_samples_leaf}\n",
        "\n",
        "print(random_params)"
      ],
      "id": "sTXPPL1qHy0F"
    },
    {
      "cell_type": "code",
      "execution_count": null,
      "metadata": {
        "id": "40d1e96c-45c5-41c8-a174-6a124d45342b"
      },
      "outputs": [],
      "source": [
        "rf = RandomForestClassifier(random_state=42, n_jobs=-1) "
      ],
      "id": "40d1e96c-45c5-41c8-a174-6a124d45342b"
    },
    {
      "cell_type": "code",
      "execution_count": null,
      "metadata": {
        "colab": {
          "base_uri": "https://localhost:8080/"
        },
        "id": "86iLFd_OKbez",
        "outputId": "516eb08e-edd7-4555-9d05-3e7f57247335"
      },
      "outputs": [
        {
          "output_type": "stream",
          "name": "stdout",
          "text": [
            "Fitting 5 folds for each of 100 candidates, totalling 500 fits\n"
          ]
        },
        {
          "output_type": "execute_result",
          "data": {
            "text/plain": [
              "RandomizedSearchCV(cv=5,\n",
              "                   estimator=RandomForestClassifier(n_jobs=-1, random_state=42),\n",
              "                   n_iter=100, n_jobs=-1,\n",
              "                   param_distributions={'max_depth': [10, 20, 30, 40, 50, 60,\n",
              "                                                      70, 80, 90, 100, 110,\n",
              "                                                      None],\n",
              "                                        'max_features': ['auto', 'sqrt'],\n",
              "                                        'min_samples_leaf': [1, 2, 4],\n",
              "                                        'min_samples_split': [2, 5, 10],\n",
              "                                        'n_estimators': [200, 400, 600, 800,\n",
              "                                                         1000, 1200, 1400, 1600,\n",
              "                                                         1800, 2000]},\n",
              "                   random_state=42, return_train_score=True, verbose=3)"
            ]
          },
          "metadata": {},
          "execution_count": 50
        }
      ],
      "source": [
        "# Random search of parameters, using 5 fold cross validation, \n",
        "# search across 100 different combinations, and use all available cores\n",
        "rf_random = RandomizedSearchCV(estimator=rf, param_distributions=random_params,\n",
        "                              n_iter = 100, cv = 5, verbose=3, random_state=42, n_jobs=-1,\n",
        "                              return_train_score=True)\n",
        "\n",
        "# Fit the random search model\n",
        "rf_random.fit(x_train, y_train)"
      ],
      "id": "86iLFd_OKbez"
    },
    {
      "cell_type": "code",
      "execution_count": null,
      "metadata": {
        "colab": {
          "base_uri": "https://localhost:8080/"
        },
        "id": "940f15f2-de2d-4dcf-b89e-8ebb9885be6b",
        "outputId": "d2d84225-7bd1-4dc3-fcf3-cd1e8bf7b756"
      },
      "outputs": [
        {
          "output_type": "execute_result",
          "data": {
            "text/plain": [
              "0.9361875608345442"
            ]
          },
          "metadata": {},
          "execution_count": 57
        }
      ],
      "source": [
        "rf_random.best_score_"
      ],
      "id": "940f15f2-de2d-4dcf-b89e-8ebb9885be6b"
    },
    {
      "cell_type": "code",
      "execution_count": null,
      "metadata": {
        "colab": {
          "base_uri": "https://localhost:8080/"
        },
        "id": "ycdwzVrbSQIM",
        "outputId": "c61959c8-e10b-4d26-f387-bd2729a04c42"
      },
      "outputs": [
        {
          "output_type": "execute_result",
          "data": {
            "text/plain": [
              "{'max_depth': 100,\n",
              " 'max_features': 'auto',\n",
              " 'min_samples_leaf': 2,\n",
              " 'min_samples_split': 10,\n",
              " 'n_estimators': 600}"
            ]
          },
          "metadata": {},
          "execution_count": 58
        }
      ],
      "source": [
        "rf_random.best_params_"
      ],
      "id": "ycdwzVrbSQIM"
    },
    {
      "cell_type": "code",
      "execution_count": null,
      "metadata": {
        "colab": {
          "base_uri": "https://localhost:8080/"
        },
        "id": "36dXhItHBALP",
        "outputId": "fee3c7f7-afd8-4f62-81a1-decbbbf555bb"
      },
      "outputs": [
        {
          "output_type": "stream",
          "name": "stdout",
          "text": [
            "New Model has RMSE: 0.22594479646818832\n",
            "New Model has R2-Score: 0.5271466755763448\n"
          ]
        }
      ],
      "source": [
        "rf_pred = rf_random.best_estimator_.predict(x_test)\n",
        "rf_rmse = np.sqrt(mse(y_test, rf_pred))\n",
        "print('New Model has RMSE:', rf_rmse)\n",
        "print('New Model has R2-Score:', r2_score(y_test, rf_pred))"
      ],
      "id": "36dXhItHBALP"
    },
    {
      "cell_type": "code",
      "execution_count": null,
      "metadata": {
        "colab": {
          "base_uri": "https://localhost:8080/"
        },
        "id": "IgR6eJNrBNjB",
        "outputId": "60fd71a7-d36d-4ec8-bfca-3cc9606197af"
      },
      "outputs": [
        {
          "output_type": "stream",
          "name": "stdout",
          "text": [
            "Improvement of: 0.0 %\n"
          ]
        }
      ],
      "source": [
        "print('Improvement of:', ((RF_rmse - rf_rmse)/RF_rmse)*100, '%')"
      ],
      "id": "IgR6eJNrBNjB"
    },
    {
      "cell_type": "code",
      "execution_count": null,
      "metadata": {
        "colab": {
          "base_uri": "https://localhost:8080/",
          "height": 538
        },
        "id": "QpA8YUabVOsy",
        "outputId": "0c19c788-58b1-4b9e-8445-a5db234fb9a0"
      },
      "outputs": [
        {
          "output_type": "execute_result",
          "data": {
            "text/plain": [
              "Text(0.5, 1.0, 'Feature Importances')"
            ]
          },
          "metadata": {},
          "execution_count": 62
        },
        {
          "output_type": "display_data",
          "data": {
            "text/plain": [
              "<Figure size 576x576 with 1 Axes>"
            ],
            "image/png": "[encoded data removed]"
          },
          "metadata": {
            "needs_background": "light"
          }
        }
      ],
      "source": [
        "#Feature Importance\n",
        "tree_feature =  pd.Series(rf.feature_importances_, x.columns).sort_values(ascending = True)\n",
        "plt.figure(figsize = (8,8))\n",
        "plt.barh(x.columns, tree_feature)\n",
        "plt.xlabel('Mean Impurity Reduction', fontsize = 12)\n",
        "plt.ylabel('Features', fontsize = 12)\n",
        "plt.yticks(fontsize = 12)\n",
        "plt.title('Feature Importances', fontsize = 20)"
      ],
      "id": "QpA8YUabVOsy"
    },
    {
      "cell_type": "markdown",
      "metadata": {
        "id": "tj0tDJ_3gHKy"
      },
      "source": [
        "Berdasarkan grafik di atas dapat dilihat urutan data yang menurun dari yang paling mempengaruhi data churn hingga yang tidak mempengaruhi. oleh karena itu, dapat simpulkan bahwa data RoamMin merupakan data yang paling mempengaruhi data Churn. Selain itu RoamMins juga menjadi faktor utama untuk membedakan customer yang churn dan tidak churn"
      ],
      "id": "tj0tDJ_3gHKy"
    },
    {
      "cell_type": "markdown",
      "metadata": {
        "id": "P8Lmh4FMFgmE"
      },
      "source": [
        "# Evaluation Model"
      ],
      "id": "P8Lmh4FMFgmE"
    },
    {
      "cell_type": "code",
      "execution_count": null,
      "metadata": {
        "colab": {
          "base_uri": "https://localhost:8080/"
        },
        "id": "f0f5c3b4-1a60-4d2d-946c-bc01cf981032",
        "outputId": "ab6d87b6-b5bc-446f-c566-c8aec85319e1"
      },
      "outputs": [
        {
          "output_type": "stream",
          "name": "stdout",
          "text": [
            "[[554  30]\n",
            " [ 27  55]]\n",
            "[[579   5]\n",
            " [ 29  53]]\n",
            "[[573  11]\n",
            " [ 23  59]]\n"
          ]
        }
      ],
      "source": [
        "from sklearn.metrics import confusion_matrix\n",
        "print(confusion_matrix(y_test, dtree_pred))\n",
        "print(confusion_matrix(y_test, RF_pred))\n",
        "print(confusion_matrix(y_test, rf_pred))"
      ],
      "id": "f0f5c3b4-1a60-4d2d-946c-bc01cf981032"
    },
    {
      "cell_type": "code",
      "execution_count": null,
      "metadata": {
        "colab": {
          "base_uri": "https://localhost:8080/",
          "height": 337
        },
        "id": "_CEAvZSkIlBY",
        "outputId": "b14bbd4b-ffcc-46d8-9feb-a98627d78d45"
      },
      "outputs": [
        {
          "output_type": "execute_result",
          "data": {
            "text/plain": [
              "<matplotlib.axes._subplots.AxesSubplot at 0x7f17e26093d0>"
            ]
          },
          "metadata": {},
          "execution_count": 67
        },
        {
          "output_type": "display_data",
          "data": {
            "text/plain": [
              "<Figure size 576x360 with 2 Axes>"
            ],
            "image/png": "[encoded data removed]"
          },
          "metadata": {
            "needs_background": "light"
          }
        }
      ],
      "source": [
        "f, ax = plt.subplots(figsize=(8,5))\n",
        "sns.heatmap(confusion_matrix(y_test, dtree_pred), annot=True, fmt=\".0f\", ax=ax)"
      ],
      "id": "_CEAvZSkIlBY"
    },
    {
      "cell_type": "code",
      "execution_count": null,
      "metadata": {
        "colab": {
          "base_uri": "https://localhost:8080/",
          "height": 337
        },
        "id": "uujtRoTCHRP0",
        "outputId": "10047ad3-5371-415b-bd83-7d6acf1c475f"
      },
      "outputs": [
        {
          "output_type": "execute_result",
          "data": {
            "text/plain": [
              "<matplotlib.axes._subplots.AxesSubplot at 0x7f17e1e68d10>"
            ]
          },
          "metadata": {},
          "execution_count": 66
        },
        {
          "output_type": "display_data",
          "data": {
            "text/plain": [
              "<Figure size 576x360 with 2 Axes>"
            ],
            "image/png": "[encoded data removed]"
          },
          "metadata": {
            "needs_background": "light"
          }
        }
      ],
      "source": [
        "f, ax = plt.subplots(figsize=(8,5))\n",
        "sns.heatmap(confusion_matrix(y_test,RF_pred), annot=True, fmt=\".0f\", ax=ax)"
      ],
      "id": "uujtRoTCHRP0"
    },
    {
      "cell_type": "code",
      "execution_count": null,
      "metadata": {
        "colab": {
          "base_uri": "https://localhost:8080/",
          "height": 337
        },
        "id": "fbldlYBOZK8-",
        "outputId": "674cf928-a866-4f8e-f6f4-69ac4d95bbce"
      },
      "outputs": [
        {
          "output_type": "execute_result",
          "data": {
            "text/plain": [
              "<matplotlib.axes._subplots.AxesSubplot at 0x7f17e0e90390>"
            ]
          },
          "metadata": {},
          "execution_count": 65
        },
        {
          "output_type": "display_data",
          "data": {
            "text/plain": [
              "<Figure size 576x360 with 2 Axes>"
            ],
            "image/png": "[encoded data removed]"
          },
          "metadata": {
            "needs_background": "light"
          }
        }
      ],
      "source": [
        "f, ax = plt.subplots(figsize=(8,5))\n",
        "sns.heatmap(confusion_matrix(y_test,rf_pred), annot=True, fmt=\".0f\", ax=ax)"
      ],
      "id": "fbldlYBOZK8-"
    },
    {
      "cell_type": "code",
      "execution_count": null,
      "metadata": {
        "colab": {
          "base_uri": "https://localhost:8080/"
        },
        "id": "c359db1a-e68e-488e-a404-26d3ea60561c",
        "outputId": "749cbcca-bf88-42a7-f357-00b3647a683a"
      },
      "outputs": [
        {
          "output_type": "stream",
          "name": "stdout",
          "text": [
            "0.8096809221516874\n",
            "0.8188899097895089\n",
            "0.8503382893417976\n"
          ]
        }
      ],
      "source": [
        "from sklearn.metrics import roc_curve, auc\n",
        "fpr, tpr, thresholds = roc_curve(y_test, dtree_pred, pos_label=1) # pos_label: positive label\n",
        "print(auc(fpr, tpr))\n",
        "\n",
        "fpr, tpr, thresholds = roc_curve(y_test, RF_pred, pos_label=1) # pos_label: positive label\n",
        "print(auc(fpr, tpr))\n",
        "\n",
        "fpr, tpr, thresholds = roc_curve(y_test, rf_pred, pos_label=1) # pos_label: positive label\n",
        "print(auc(fpr, tpr))"
      ],
      "id": "c359db1a-e68e-488e-a404-26d3ea60561c"
    },
    {
      "cell_type": "markdown",
      "metadata": {
        "id": "g8SoZR5AgOwZ"
      },
      "source": [
        "Berdasarkan nilai AUC yang didapatkan dapat dilihat bahwa nilai AUC untuk metode Decision Tree sebesar 0.81, nilai AUC untuk metode Random Forest sebesar 0.82, sedangkan nilai AUC untuk metode Random Forest dengan Hypertuning sebesar 0.85. Oleh karena itu, dapat disimpulkan bahwa nilai AUC pada metode Random Forest dengan Hypertuning merupakan yang terbaik dikarenakan mendekati nilai 1 atau dengan kata lain yang paling tinggi di bandingkan metode lain."
      ],
      "id": "g8SoZR5AgOwZ"
    },
    {
      "cell_type": "code",
      "execution_count": null,
      "metadata": {
        "colab": {
          "base_uri": "https://localhost:8080/"
        },
        "id": "zazzoGD6903R",
        "outputId": "6ef5058c-d0fd-4cd0-f712-52424fa96579"
      },
      "outputs": [
        {
          "output_type": "stream",
          "name": "stdout",
          "text": [
            "              precision    recall  f1-score   support\n",
            "\n",
            "           0       0.95      0.95      0.95       584\n",
            "           1       0.65      0.67      0.66        82\n",
            "\n",
            "    accuracy                           0.91       666\n",
            "   macro avg       0.80      0.81      0.80       666\n",
            "weighted avg       0.92      0.91      0.92       666\n",
            "\n",
            "0.9144144144144144\n",
            "              precision    recall  f1-score   support\n",
            "\n",
            "           0       0.95      0.99      0.97       584\n",
            "           1       0.91      0.65      0.76        82\n",
            "\n",
            "    accuracy                           0.95       666\n",
            "   macro avg       0.93      0.82      0.86       666\n",
            "weighted avg       0.95      0.95      0.95       666\n",
            "\n",
            "0.948948948948949\n",
            "              precision    recall  f1-score   support\n",
            "\n",
            "           0       0.96      0.98      0.97       584\n",
            "           1       0.84      0.72      0.78        82\n",
            "\n",
            "    accuracy                           0.95       666\n",
            "   macro avg       0.90      0.85      0.87       666\n",
            "weighted avg       0.95      0.95      0.95       666\n",
            "\n",
            "0.948948948948949\n"
          ]
        }
      ],
      "source": [
        "from sklearn.metrics import classification_report, accuracy_score\n",
        "print(classification_report(y_test, dtree_pred )) \n",
        "print(accuracy_score(y_test, dtree_pred ))\n",
        "\n",
        "print(classification_report(y_test, RF_pred )) \n",
        "print(accuracy_score(y_test, RF_pred ))\n",
        "\n",
        "print(classification_report(y_test, rf_pred )) \n",
        "print(accuracy_score(y_test, rf_pred ))"
      ],
      "id": "zazzoGD6903R"
    },
    {
      "cell_type": "markdown",
      "metadata": {
        "id": "3j0KP7H09_Qm"
      },
      "source": [
        "Hasil akurasi dengan menggunakan metode decision tree menghasilkan nilai akurasi sebesar 91%. Pada metode random forest hasil akurasinya menunjukkan angka sebesar 95%, sedangkan dengan menggunakan hypertuning menghasilkan akurasi sebesar 95% . Oleh karena itu, dapat dikatakan bahwa metode random forest lebih baik dibandingkan metode decision tree"
      ],
      "id": "3j0KP7H09_Qm"
    },
    {
      "cell_type": "markdown",
      "metadata": {
        "id": "O4BilSooHmfd"
      },
      "source": [
        "# **CONCLUSION**"
      ],
      "id": "O4BilSooHmfd"
    },
    {
      "cell_type": "markdown",
      "metadata": {
        "id": "pUosW4EOIBbA"
      },
      "source": [
        "*   Interesting Insight\n",
        "\n",
        "\n",
        "Semakin sering pelanggan menghubungi Customer Service maka semakin besar kemungkinan pelanggan untuk churn\n",
        "\n"
      ],
      "id": "pUosW4EOIBbA"
    },
    {
      "cell_type": "markdown",
      "metadata": {
        "id": "8ylFSffbII-K"
      },
      "source": [
        "*   Rekomendasi\n",
        "\n",
        "Churn dapat diturunkan oleh perusahaan dengan cara memperhatikan variabel yang paling mempengaruhi. Berdasarkan grafik feature importance dapat dilihat bahwa variabel yang berpengaruh tinggi terhadap variabel churn yaitu RoamMins kemudian diikuti dengan Overage Fee, MonthlyCharge. Maka untuk mengurangi tingkat churn perusahaan bisa lebih memperhatikan pelayanan untuk roaming ataupun memberikan tingkat diskon kepada pelanggan. Selain itu RoamMins juga menjadi faktor utama untuk membedakan customer yang churn dan tidak churn\n"
      ],
      "id": "8ylFSffbII-K"
    },
    {
      "cell_type": "code",
      "execution_count": null,
      "metadata": {
        "colab": {
          "background_save": true
        },
        "id": "P-lYL1RrH-uc"
      },
      "outputs": [],
      "source": [
        ""
      ],
      "id": "P-lYL1RrH-uc"
    }
  ],
  "metadata": {
    "colab": {
      "collapsed_sections": [],
      "name": "Final Project.ipynb",
      "provenance": []
    },
    "kernelspec": {
      "display_name": "Python 3 (ipykernel)",
      "language": "python",
      "name": "python3"
    },
    "language_info": {
      "codemirror_mode": {
        "name": "ipython",
        "version": 3
      },
      "file_extension": ".py",
      "mimetype": "text/x-python",
      "name": "python",
      "nbconvert_exporter": "python",
      "pygments_lexer": "ipython3",
      "version": "3.9.12"
    }
  },
  "nbformat": 4,
  "nbformat_minor": 5
}